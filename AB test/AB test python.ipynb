{
 "cells": [
  {
   "cell_type": "code",
   "execution_count": 1,
   "id": "80b1d129",
   "metadata": {},
   "outputs": [],
   "source": [
    "import pandas as pd\n",
    "import numpy as np\n",
    "import statsmodels.stats.proportion as sp"
   ]
  },
  {
   "cell_type": "code",
   "execution_count": 2,
   "id": "4656c629",
   "metadata": {},
   "outputs": [
    {
     "data": {
      "text/html": [
       "<div>\n",
       "<style scoped>\n",
       "    .dataframe tbody tr th:only-of-type {\n",
       "        vertical-align: middle;\n",
       "    }\n",
       "\n",
       "    .dataframe tbody tr th {\n",
       "        vertical-align: top;\n",
       "    }\n",
       "\n",
       "    .dataframe thead th {\n",
       "        text-align: right;\n",
       "    }\n",
       "</style>\n",
       "<table border=\"1\" class=\"dataframe\">\n",
       "  <thead>\n",
       "    <tr style=\"text-align: right;\">\n",
       "      <th></th>\n",
       "      <th>id</th>\n",
       "      <th>user_id</th>\n",
       "      <th>timestamp</th>\n",
       "      <th>group</th>\n",
       "      <th>advertising_pid</th>\n",
       "      <th>clk</th>\n",
       "    </tr>\n",
       "  </thead>\n",
       "  <tbody>\n",
       "    <tr>\n",
       "      <th>0</th>\n",
       "      <td>1</td>\n",
       "      <td>851104</td>\n",
       "      <td>2021-01-21 22:11:48.556739</td>\n",
       "      <td>control</td>\n",
       "      <td>430576_1007</td>\n",
       "      <td>0</td>\n",
       "    </tr>\n",
       "    <tr>\n",
       "      <th>1</th>\n",
       "      <td>2</td>\n",
       "      <td>804228</td>\n",
       "      <td>2021-01-12 08:01:45.159739</td>\n",
       "      <td>control</td>\n",
       "      <td>430576_1007</td>\n",
       "      <td>0</td>\n",
       "    </tr>\n",
       "    <tr>\n",
       "      <th>2</th>\n",
       "      <td>3</td>\n",
       "      <td>661590</td>\n",
       "      <td>2021-01-11 16:55:06.154213</td>\n",
       "      <td>treatment</td>\n",
       "      <td>430575_1007</td>\n",
       "      <td>0</td>\n",
       "    </tr>\n",
       "    <tr>\n",
       "      <th>3</th>\n",
       "      <td>4</td>\n",
       "      <td>853541</td>\n",
       "      <td>2021-01-08 18:28:03.143765</td>\n",
       "      <td>treatment</td>\n",
       "      <td>430575_1007</td>\n",
       "      <td>0</td>\n",
       "    </tr>\n",
       "    <tr>\n",
       "      <th>4</th>\n",
       "      <td>5</td>\n",
       "      <td>864975</td>\n",
       "      <td>2021-01-21 01:52:26.210827</td>\n",
       "      <td>control</td>\n",
       "      <td>430576_1007</td>\n",
       "      <td>1</td>\n",
       "    </tr>\n",
       "  </tbody>\n",
       "</table>\n",
       "</div>"
      ],
      "text/plain": [
       "   id  user_id                   timestamp      group advertising_pid  clk\n",
       "0   1   851104  2021-01-21 22:11:48.556739    control     430576_1007    0\n",
       "1   2   804228  2021-01-12 08:01:45.159739    control     430576_1007    0\n",
       "2   3   661590  2021-01-11 16:55:06.154213  treatment     430575_1007    0\n",
       "3   4   853541  2021-01-08 18:28:03.143765  treatment     430575_1007    0\n",
       "4   5   864975  2021-01-21 01:52:26.210827    control     430576_1007    1"
      ]
     },
     "execution_count": 2,
     "metadata": {},
     "output_type": "execute_result"
    }
   ],
   "source": [
    "df = pd.read_csv(\"ads_test.csv\")\n",
    "df.head()"
   ]
  },
  {
   "cell_type": "code",
   "execution_count": 3,
   "id": "d94a5d51",
   "metadata": {},
   "outputs": [
    {
     "data": {
      "text/plain": [
       "(294478, 6)"
      ]
     },
     "execution_count": 3,
     "metadata": {},
     "output_type": "execute_result"
    }
   ],
   "source": [
    "df.shape"
   ]
  },
  {
   "cell_type": "code",
   "execution_count": 4,
   "id": "4506cbce",
   "metadata": {},
   "outputs": [
    {
     "data": {
      "text/plain": [
       "id                 False\n",
       "user_id            False\n",
       "timestamp          False\n",
       "group              False\n",
       "advertising_pid    False\n",
       "clk                False\n",
       "dtype: bool"
      ]
     },
     "execution_count": 4,
     "metadata": {},
     "output_type": "execute_result"
    }
   ],
   "source": [
    "df.isnull().any()"
   ]
  },
  {
   "cell_type": "markdown",
   "id": "036f0487",
   "metadata": {},
   "source": [
    "Check all advertising_pid of the 'control' group are 430576_1007"
   ]
  },
  {
   "cell_type": "code",
   "execution_count": 5,
   "id": "141edd05",
   "metadata": {},
   "outputs": [
    {
     "data": {
      "text/html": [
       "<div>\n",
       "<style scoped>\n",
       "    .dataframe tbody tr th:only-of-type {\n",
       "        vertical-align: middle;\n",
       "    }\n",
       "\n",
       "    .dataframe tbody tr th {\n",
       "        vertical-align: top;\n",
       "    }\n",
       "\n",
       "    .dataframe thead th {\n",
       "        text-align: right;\n",
       "    }\n",
       "</style>\n",
       "<table border=\"1\" class=\"dataframe\">\n",
       "  <thead>\n",
       "    <tr style=\"text-align: right;\">\n",
       "      <th></th>\n",
       "      <th>id</th>\n",
       "      <th>user_id</th>\n",
       "      <th>timestamp</th>\n",
       "      <th>group</th>\n",
       "      <th>advertising_pid</th>\n",
       "      <th>clk</th>\n",
       "    </tr>\n",
       "  </thead>\n",
       "  <tbody>\n",
       "  </tbody>\n",
       "</table>\n",
       "</div>"
      ],
      "text/plain": [
       "Empty DataFrame\n",
       "Columns: [id, user_id, timestamp, group, advertising_pid, clk]\n",
       "Index: []"
      ]
     },
     "execution_count": 5,
     "metadata": {},
     "output_type": "execute_result"
    }
   ],
   "source": [
    "df[((df.group == \"control\")!=(df.advertising_pid == \"430576_1007\"))]"
   ]
  },
  {
   "cell_type": "markdown",
   "id": "3e6f7cae",
   "metadata": {},
   "source": [
    "Check all advertising_pid of the 'treatment' group are 430575_1007"
   ]
  },
  {
   "cell_type": "code",
   "execution_count": 6,
   "id": "a85f1c79",
   "metadata": {},
   "outputs": [
    {
     "data": {
      "text/html": [
       "<div>\n",
       "<style scoped>\n",
       "    .dataframe tbody tr th:only-of-type {\n",
       "        vertical-align: middle;\n",
       "    }\n",
       "\n",
       "    .dataframe tbody tr th {\n",
       "        vertical-align: top;\n",
       "    }\n",
       "\n",
       "    .dataframe thead th {\n",
       "        text-align: right;\n",
       "    }\n",
       "</style>\n",
       "<table border=\"1\" class=\"dataframe\">\n",
       "  <thead>\n",
       "    <tr style=\"text-align: right;\">\n",
       "      <th></th>\n",
       "      <th>id</th>\n",
       "      <th>user_id</th>\n",
       "      <th>timestamp</th>\n",
       "      <th>group</th>\n",
       "      <th>advertising_pid</th>\n",
       "      <th>clk</th>\n",
       "    </tr>\n",
       "  </thead>\n",
       "  <tbody>\n",
       "  </tbody>\n",
       "</table>\n",
       "</div>"
      ],
      "text/plain": [
       "Empty DataFrame\n",
       "Columns: [id, user_id, timestamp, group, advertising_pid, clk]\n",
       "Index: []"
      ]
     },
     "execution_count": 6,
     "metadata": {},
     "output_type": "execute_result"
    }
   ],
   "source": [
    "df[((df.group == \"treatment\")!=(df.advertising_pid == \"430575_1007\"))]"
   ]
  },
  {
   "cell_type": "code",
   "execution_count": 7,
   "id": "a84b764f",
   "metadata": {},
   "outputs": [
    {
     "data": {
      "text/plain": [
       "False"
      ]
     },
     "execution_count": 7,
     "metadata": {},
     "output_type": "execute_result"
    }
   ],
   "source": [
    "df.duplicated().any()"
   ]
  },
  {
   "cell_type": "code",
   "execution_count": 12,
   "id": "d509f6db",
   "metadata": {},
   "outputs": [],
   "source": [
    "group = df.groupby('group').sum()['clk']"
   ]
  },
  {
   "cell_type": "code",
   "execution_count": 15,
   "id": "b4cc4d3d",
   "metadata": {},
   "outputs": [],
   "source": [
    "rate_control = group['control']/sum(group)\n",
    "rate_treatment=group['treatment']/sum(group)"
   ]
  },
  {
   "cell_type": "code",
   "execution_count": 16,
   "id": "f1f3dc64",
   "metadata": {},
   "outputs": [
    {
     "data": {
      "text/plain": [
       "0.4948807365043939"
      ]
     },
     "execution_count": 16,
     "metadata": {},
     "output_type": "execute_result"
    }
   ],
   "source": [
    "rate_control"
   ]
  },
  {
   "cell_type": "code",
   "execution_count": 17,
   "id": "f74777bf",
   "metadata": {},
   "outputs": [
    {
     "data": {
      "text/plain": [
       "0.5051192634956061"
      ]
     },
     "execution_count": 17,
     "metadata": {},
     "output_type": "execute_result"
    }
   ],
   "source": [
    "rate_treatment"
   ]
  },
  {
   "cell_type": "code",
   "execution_count": 36,
   "id": "42a8aa90",
   "metadata": {},
   "outputs": [
    {
     "data": {
      "text/html": [
       "<div>\n",
       "<style scoped>\n",
       "    .dataframe tbody tr th:only-of-type {\n",
       "        vertical-align: middle;\n",
       "    }\n",
       "\n",
       "    .dataframe tbody tr th {\n",
       "        vertical-align: top;\n",
       "    }\n",
       "\n",
       "    .dataframe thead tr th {\n",
       "        text-align: left;\n",
       "    }\n",
       "\n",
       "    .dataframe thead tr:last-of-type th {\n",
       "        text-align: right;\n",
       "    }\n",
       "</style>\n",
       "<table border=\"1\" class=\"dataframe\">\n",
       "  <thead>\n",
       "    <tr>\n",
       "      <th></th>\n",
       "      <th colspan=\"8\" halign=\"left\">id</th>\n",
       "      <th colspan=\"5\" halign=\"left\">user_id</th>\n",
       "      <th colspan=\"8\" halign=\"left\">clk</th>\n",
       "    </tr>\n",
       "    <tr>\n",
       "      <th></th>\n",
       "      <th>count</th>\n",
       "      <th>mean</th>\n",
       "      <th>std</th>\n",
       "      <th>min</th>\n",
       "      <th>25%</th>\n",
       "      <th>50%</th>\n",
       "      <th>75%</th>\n",
       "      <th>max</th>\n",
       "      <th>count</th>\n",
       "      <th>mean</th>\n",
       "      <th>...</th>\n",
       "      <th>75%</th>\n",
       "      <th>max</th>\n",
       "      <th>count</th>\n",
       "      <th>mean</th>\n",
       "      <th>std</th>\n",
       "      <th>min</th>\n",
       "      <th>25%</th>\n",
       "      <th>50%</th>\n",
       "      <th>75%</th>\n",
       "      <th>max</th>\n",
       "    </tr>\n",
       "    <tr>\n",
       "      <th>group</th>\n",
       "      <th></th>\n",
       "      <th></th>\n",
       "      <th></th>\n",
       "      <th></th>\n",
       "      <th></th>\n",
       "      <th></th>\n",
       "      <th></th>\n",
       "      <th></th>\n",
       "      <th></th>\n",
       "      <th></th>\n",
       "      <th></th>\n",
       "      <th></th>\n",
       "      <th></th>\n",
       "      <th></th>\n",
       "      <th></th>\n",
       "      <th></th>\n",
       "      <th></th>\n",
       "      <th></th>\n",
       "      <th></th>\n",
       "      <th></th>\n",
       "      <th></th>\n",
       "    </tr>\n",
       "  </thead>\n",
       "  <tbody>\n",
       "    <tr>\n",
       "      <th>control</th>\n",
       "      <td>147239.0</td>\n",
       "      <td>147330.054653</td>\n",
       "      <td>84991.527646</td>\n",
       "      <td>1.0</td>\n",
       "      <td>73650.5</td>\n",
       "      <td>147410.0</td>\n",
       "      <td>220869.5</td>\n",
       "      <td>294477.0</td>\n",
       "      <td>147239.0</td>\n",
       "      <td>788139.425329</td>\n",
       "      <td>...</td>\n",
       "      <td>867167.0</td>\n",
       "      <td>945998.0</td>\n",
       "      <td>147239.0</td>\n",
       "      <td>0.120478</td>\n",
       "      <td>0.325520</td>\n",
       "      <td>0.0</td>\n",
       "      <td>0.0</td>\n",
       "      <td>0.0</td>\n",
       "      <td>0.0</td>\n",
       "      <td>1.0</td>\n",
       "    </tr>\n",
       "    <tr>\n",
       "      <th>treatment</th>\n",
       "      <td>147239.0</td>\n",
       "      <td>147148.945347</td>\n",
       "      <td>85025.902339</td>\n",
       "      <td>3.0</td>\n",
       "      <td>73587.5</td>\n",
       "      <td>147071.0</td>\n",
       "      <td>220847.0</td>\n",
       "      <td>294478.0</td>\n",
       "      <td>147239.0</td>\n",
       "      <td>787808.824136</td>\n",
       "      <td>...</td>\n",
       "      <td>866675.5</td>\n",
       "      <td>945999.0</td>\n",
       "      <td>147239.0</td>\n",
       "      <td>0.122970</td>\n",
       "      <td>0.328404</td>\n",
       "      <td>0.0</td>\n",
       "      <td>0.0</td>\n",
       "      <td>0.0</td>\n",
       "      <td>0.0</td>\n",
       "      <td>1.0</td>\n",
       "    </tr>\n",
       "  </tbody>\n",
       "</table>\n",
       "<p>2 rows × 24 columns</p>\n",
       "</div>"
      ],
      "text/plain": [
       "                 id                                                       \\\n",
       "              count           mean           std  min      25%       50%   \n",
       "group                                                                      \n",
       "control    147239.0  147330.054653  84991.527646  1.0  73650.5  147410.0   \n",
       "treatment  147239.0  147148.945347  85025.902339  3.0  73587.5  147071.0   \n",
       "\n",
       "                                user_id                 ...            \\\n",
       "                75%       max     count           mean  ...       75%   \n",
       "group                                                   ...             \n",
       "control    220869.5  294477.0  147239.0  788139.425329  ...  867167.0   \n",
       "treatment  220847.0  294478.0  147239.0  787808.824136  ...  866675.5   \n",
       "\n",
       "                          clk                                               \n",
       "                max     count      mean       std  min  25%  50%  75%  max  \n",
       "group                                                                       \n",
       "control    945998.0  147239.0  0.120478  0.325520  0.0  0.0  0.0  0.0  1.0  \n",
       "treatment  945999.0  147239.0  0.122970  0.328404  0.0  0.0  0.0  0.0  1.0  \n",
       "\n",
       "[2 rows x 24 columns]"
      ]
     },
     "execution_count": 36,
     "metadata": {},
     "output_type": "execute_result"
    }
   ],
   "source": [
    "df.groupby('group').describe()"
   ]
  },
  {
   "cell_type": "code",
   "execution_count": 43,
   "id": "9267d50b",
   "metadata": {},
   "outputs": [
    {
     "data": {
      "text/plain": [
       "id                 294478\n",
       "user_id            294478\n",
       "timestamp          294478\n",
       "group              294478\n",
       "advertising_pid    294478\n",
       "clk                294478\n",
       "dtype: int64"
      ]
     },
     "execution_count": 43,
     "metadata": {},
     "output_type": "execute_result"
    }
   ],
   "source": [
    "df.count()"
   ]
  },
  {
   "cell_type": "code",
   "execution_count": 46,
   "id": "0a5a300b",
   "metadata": {},
   "outputs": [],
   "source": [
    "count = np.array([group['control'],group['treatment']])\n",
    "nobs = np.array([147239,147239])"
   ]
  },
  {
   "cell_type": "code",
   "execution_count": 47,
   "id": "24978d8d",
   "metadata": {},
   "outputs": [],
   "source": [
    "z_score, p_value = sp.proportions_ztest(count,nobs,alternative='smaller')"
   ]
  },
  {
   "cell_type": "code",
   "execution_count": 48,
   "id": "69f0a1ac",
   "metadata": {},
   "outputs": [
    {
     "data": {
      "text/plain": [
       "-2.068408103750818"
      ]
     },
     "execution_count": 48,
     "metadata": {},
     "output_type": "execute_result"
    }
   ],
   "source": [
    "z_score"
   ]
  },
  {
   "cell_type": "code",
   "execution_count": 49,
   "id": "92a5e6e0",
   "metadata": {},
   "outputs": [
    {
     "data": {
      "text/plain": [
       "0.019300831916173038"
      ]
     },
     "execution_count": 49,
     "metadata": {},
     "output_type": "execute_result"
    }
   ],
   "source": [
    "p_value"
   ]
  },
  {
   "cell_type": "markdown",
   "id": "293a8e13",
   "metadata": {},
   "source": [
    "Since p-value = 0.0193 < 0.05, we cannot reject null hypothesis."
   ]
  },
  {
   "cell_type": "code",
   "execution_count": null,
   "id": "3d7e2b09",
   "metadata": {},
   "outputs": [],
   "source": []
  }
 ],
 "metadata": {
  "kernelspec": {
   "display_name": "Python 3 (ipykernel)",
   "language": "python",
   "name": "python3"
  },
  "language_info": {
   "codemirror_mode": {
    "name": "ipython",
    "version": 3
   },
   "file_extension": ".py",
   "mimetype": "text/x-python",
   "name": "python",
   "nbconvert_exporter": "python",
   "pygments_lexer": "ipython3",
   "version": "3.9.12"
  }
 },
 "nbformat": 4,
 "nbformat_minor": 5
}
