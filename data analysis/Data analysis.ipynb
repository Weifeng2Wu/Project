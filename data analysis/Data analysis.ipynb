{
 "cells": [
  {
   "cell_type": "code",
   "execution_count": 1,
   "id": "69586990",
   "metadata": {},
   "outputs": [],
   "source": [
    "import pandas as pd\n",
    "import numpy as np\n",
    "import matplotlib.pyplot as plt"
   ]
  },
  {
   "cell_type": "markdown",
   "id": "d31f9fe5",
   "metadata": {},
   "source": [
    "## cleaning data"
   ]
  },
  {
   "cell_type": "code",
   "execution_count": 2,
   "id": "8663c613",
   "metadata": {},
   "outputs": [],
   "source": [
    "azure_ads = pd.read_csv(\"/Users/wu/Desktop/Internship/azure_ads/azure_ads.csv\")"
   ]
  },
  {
   "cell_type": "code",
   "execution_count": 3,
   "id": "706ef724",
   "metadata": {},
   "outputs": [
    {
     "name": "stdout",
     "output_type": "stream",
     "text": [
      "         Unnamed: 0     user  time_stamp  adgroup_id          pid  nonclk  clk\n",
      "0                 0   581738  1494137644           1  430548_1007       1    0\n",
      "1                 1   449818  1494638778           3  430548_1007       1    0\n",
      "2                 2   914836  1494650879           4  430548_1007       1    0\n",
      "3                 3   914836  1494651029           5  430548_1007       1    0\n",
      "4                 4   399907  1494302958           8  430548_1007       1    0\n",
      "...             ...      ...         ...         ...          ...     ...  ...\n",
      "1048570     1048570   909675  1494666964      183390  430548_1007       1    0\n",
      "1048571     1048571   708716  1494582327      183390  430548_1007       1    0\n",
      "1048572     1048572   576466  1494313024      183390  430548_1007       1    0\n",
      "1048573     1048573  1037392  1494680974      183390  430548_1007       1    0\n",
      "1048574     1048574   695789  1494572481      183390  430548_1007       1    0\n",
      "\n",
      "[1048575 rows x 7 columns]\n"
     ]
    }
   ],
   "source": [
    "print(azure_ads)"
   ]
  },
  {
   "cell_type": "code",
   "execution_count": 4,
   "id": "19d4872d",
   "metadata": {},
   "outputs": [],
   "source": [
    "data = azure_ads.sample(n=1000000)"
   ]
  },
  {
   "cell_type": "code",
   "execution_count": 5,
   "id": "9ba75cda",
   "metadata": {},
   "outputs": [
    {
     "name": "stdout",
     "output_type": "stream",
     "text": [
      "        Unnamed: 0     user  time_stamp  adgroup_id          pid  nonclk  clk\n",
      "478846      478846   849986  1494025937      101746  430548_1007       0    1\n",
      "142625      142625   142670  1494208772       36822  430539_1007       1    0\n",
      "257311      257311   141474  1494042146       58676  430539_1007       1    0\n",
      "108383      108383  1017614  1494212109       29110  430548_1007       1    0\n",
      "343655      343655   845622  1494251423       76946  430548_1007       0    1\n",
      "...            ...      ...         ...         ...          ...     ...  ...\n",
      "719882      719882   229740  1494327050      133687  430548_1007       1    0\n",
      "301972      301972   900928  1494131545       67965  430539_1007       1    0\n",
      "632715      632715  1012119  1494630040      122592  430548_1007       1    0\n",
      "250007      250007    48733  1494079917       57455  430539_1007       1    0\n",
      "831037      831037   643226  1494390784      151189  430548_1007       0    1\n",
      "\n",
      "[1000000 rows x 7 columns]\n"
     ]
    }
   ],
   "source": [
    "print(data)"
   ]
  },
  {
   "cell_type": "code",
   "execution_count": 6,
   "id": "6f7a3286",
   "metadata": {},
   "outputs": [
    {
     "data": {
      "text/html": [
       "<div>\n",
       "<style scoped>\n",
       "    .dataframe tbody tr th:only-of-type {\n",
       "        vertical-align: middle;\n",
       "    }\n",
       "\n",
       "    .dataframe tbody tr th {\n",
       "        vertical-align: top;\n",
       "    }\n",
       "\n",
       "    .dataframe thead th {\n",
       "        text-align: right;\n",
       "    }\n",
       "</style>\n",
       "<table border=\"1\" class=\"dataframe\">\n",
       "  <thead>\n",
       "    <tr style=\"text-align: right;\">\n",
       "      <th></th>\n",
       "      <th>Unnamed: 0</th>\n",
       "      <th>user</th>\n",
       "      <th>time_stamp</th>\n",
       "      <th>adgroup_id</th>\n",
       "      <th>pid</th>\n",
       "      <th>nonclk</th>\n",
       "      <th>clk</th>\n",
       "    </tr>\n",
       "  </thead>\n",
       "  <tbody>\n",
       "    <tr>\n",
       "      <th>478846</th>\n",
       "      <td>478846</td>\n",
       "      <td>849986</td>\n",
       "      <td>1494025937</td>\n",
       "      <td>101746</td>\n",
       "      <td>430548_1007</td>\n",
       "      <td>0</td>\n",
       "      <td>1</td>\n",
       "    </tr>\n",
       "    <tr>\n",
       "      <th>142625</th>\n",
       "      <td>142625</td>\n",
       "      <td>142670</td>\n",
       "      <td>1494208772</td>\n",
       "      <td>36822</td>\n",
       "      <td>430539_1007</td>\n",
       "      <td>1</td>\n",
       "      <td>0</td>\n",
       "    </tr>\n",
       "    <tr>\n",
       "      <th>257311</th>\n",
       "      <td>257311</td>\n",
       "      <td>141474</td>\n",
       "      <td>1494042146</td>\n",
       "      <td>58676</td>\n",
       "      <td>430539_1007</td>\n",
       "      <td>1</td>\n",
       "      <td>0</td>\n",
       "    </tr>\n",
       "    <tr>\n",
       "      <th>108383</th>\n",
       "      <td>108383</td>\n",
       "      <td>1017614</td>\n",
       "      <td>1494212109</td>\n",
       "      <td>29110</td>\n",
       "      <td>430548_1007</td>\n",
       "      <td>1</td>\n",
       "      <td>0</td>\n",
       "    </tr>\n",
       "    <tr>\n",
       "      <th>343655</th>\n",
       "      <td>343655</td>\n",
       "      <td>845622</td>\n",
       "      <td>1494251423</td>\n",
       "      <td>76946</td>\n",
       "      <td>430548_1007</td>\n",
       "      <td>0</td>\n",
       "      <td>1</td>\n",
       "    </tr>\n",
       "    <tr>\n",
       "      <th>...</th>\n",
       "      <td>...</td>\n",
       "      <td>...</td>\n",
       "      <td>...</td>\n",
       "      <td>...</td>\n",
       "      <td>...</td>\n",
       "      <td>...</td>\n",
       "      <td>...</td>\n",
       "    </tr>\n",
       "    <tr>\n",
       "      <th>719882</th>\n",
       "      <td>719882</td>\n",
       "      <td>229740</td>\n",
       "      <td>1494327050</td>\n",
       "      <td>133687</td>\n",
       "      <td>430548_1007</td>\n",
       "      <td>1</td>\n",
       "      <td>0</td>\n",
       "    </tr>\n",
       "    <tr>\n",
       "      <th>301972</th>\n",
       "      <td>301972</td>\n",
       "      <td>900928</td>\n",
       "      <td>1494131545</td>\n",
       "      <td>67965</td>\n",
       "      <td>430539_1007</td>\n",
       "      <td>1</td>\n",
       "      <td>0</td>\n",
       "    </tr>\n",
       "    <tr>\n",
       "      <th>632715</th>\n",
       "      <td>632715</td>\n",
       "      <td>1012119</td>\n",
       "      <td>1494630040</td>\n",
       "      <td>122592</td>\n",
       "      <td>430548_1007</td>\n",
       "      <td>1</td>\n",
       "      <td>0</td>\n",
       "    </tr>\n",
       "    <tr>\n",
       "      <th>250007</th>\n",
       "      <td>250007</td>\n",
       "      <td>48733</td>\n",
       "      <td>1494079917</td>\n",
       "      <td>57455</td>\n",
       "      <td>430539_1007</td>\n",
       "      <td>1</td>\n",
       "      <td>0</td>\n",
       "    </tr>\n",
       "    <tr>\n",
       "      <th>831037</th>\n",
       "      <td>831037</td>\n",
       "      <td>643226</td>\n",
       "      <td>1494390784</td>\n",
       "      <td>151189</td>\n",
       "      <td>430548_1007</td>\n",
       "      <td>0</td>\n",
       "      <td>1</td>\n",
       "    </tr>\n",
       "  </tbody>\n",
       "</table>\n",
       "<p>1000000 rows × 7 columns</p>\n",
       "</div>"
      ],
      "text/plain": [
       "        Unnamed: 0     user  time_stamp  adgroup_id          pid  nonclk  clk\n",
       "478846      478846   849986  1494025937      101746  430548_1007       0    1\n",
       "142625      142625   142670  1494208772       36822  430539_1007       1    0\n",
       "257311      257311   141474  1494042146       58676  430539_1007       1    0\n",
       "108383      108383  1017614  1494212109       29110  430548_1007       1    0\n",
       "343655      343655   845622  1494251423       76946  430548_1007       0    1\n",
       "...            ...      ...         ...         ...          ...     ...  ...\n",
       "719882      719882   229740  1494327050      133687  430548_1007       1    0\n",
       "301972      301972   900928  1494131545       67965  430539_1007       1    0\n",
       "632715      632715  1012119  1494630040      122592  430548_1007       1    0\n",
       "250007      250007    48733  1494079917       57455  430539_1007       1    0\n",
       "831037      831037   643226  1494390784      151189  430548_1007       0    1\n",
       "\n",
       "[1000000 rows x 7 columns]"
      ]
     },
     "execution_count": 6,
     "metadata": {},
     "output_type": "execute_result"
    }
   ],
   "source": [
    "data.dropna(axis=0)"
   ]
  },
  {
   "cell_type": "code",
   "execution_count": 7,
   "id": "a5d61f70",
   "metadata": {},
   "outputs": [
    {
     "data": {
      "text/html": [
       "<div>\n",
       "<style scoped>\n",
       "    .dataframe tbody tr th:only-of-type {\n",
       "        vertical-align: middle;\n",
       "    }\n",
       "\n",
       "    .dataframe tbody tr th {\n",
       "        vertical-align: top;\n",
       "    }\n",
       "\n",
       "    .dataframe thead th {\n",
       "        text-align: right;\n",
       "    }\n",
       "</style>\n",
       "<table border=\"1\" class=\"dataframe\">\n",
       "  <thead>\n",
       "    <tr style=\"text-align: right;\">\n",
       "      <th></th>\n",
       "      <th>Unnamed: 0</th>\n",
       "      <th>user</th>\n",
       "      <th>time_stamp</th>\n",
       "      <th>adgroup_id</th>\n",
       "      <th>pid</th>\n",
       "      <th>nonclk</th>\n",
       "      <th>clk</th>\n",
       "    </tr>\n",
       "  </thead>\n",
       "  <tbody>\n",
       "    <tr>\n",
       "      <th>478846</th>\n",
       "      <td>478846</td>\n",
       "      <td>849986</td>\n",
       "      <td>1494025937</td>\n",
       "      <td>101746</td>\n",
       "      <td>430548_1007</td>\n",
       "      <td>0</td>\n",
       "      <td>1</td>\n",
       "    </tr>\n",
       "    <tr>\n",
       "      <th>142625</th>\n",
       "      <td>142625</td>\n",
       "      <td>142670</td>\n",
       "      <td>1494208772</td>\n",
       "      <td>36822</td>\n",
       "      <td>430539_1007</td>\n",
       "      <td>1</td>\n",
       "      <td>0</td>\n",
       "    </tr>\n",
       "    <tr>\n",
       "      <th>257311</th>\n",
       "      <td>257311</td>\n",
       "      <td>141474</td>\n",
       "      <td>1494042146</td>\n",
       "      <td>58676</td>\n",
       "      <td>430539_1007</td>\n",
       "      <td>1</td>\n",
       "      <td>0</td>\n",
       "    </tr>\n",
       "    <tr>\n",
       "      <th>108383</th>\n",
       "      <td>108383</td>\n",
       "      <td>1017614</td>\n",
       "      <td>1494212109</td>\n",
       "      <td>29110</td>\n",
       "      <td>430548_1007</td>\n",
       "      <td>1</td>\n",
       "      <td>0</td>\n",
       "    </tr>\n",
       "    <tr>\n",
       "      <th>343655</th>\n",
       "      <td>343655</td>\n",
       "      <td>845622</td>\n",
       "      <td>1494251423</td>\n",
       "      <td>76946</td>\n",
       "      <td>430548_1007</td>\n",
       "      <td>0</td>\n",
       "      <td>1</td>\n",
       "    </tr>\n",
       "    <tr>\n",
       "      <th>...</th>\n",
       "      <td>...</td>\n",
       "      <td>...</td>\n",
       "      <td>...</td>\n",
       "      <td>...</td>\n",
       "      <td>...</td>\n",
       "      <td>...</td>\n",
       "      <td>...</td>\n",
       "    </tr>\n",
       "    <tr>\n",
       "      <th>719882</th>\n",
       "      <td>719882</td>\n",
       "      <td>229740</td>\n",
       "      <td>1494327050</td>\n",
       "      <td>133687</td>\n",
       "      <td>430548_1007</td>\n",
       "      <td>1</td>\n",
       "      <td>0</td>\n",
       "    </tr>\n",
       "    <tr>\n",
       "      <th>301972</th>\n",
       "      <td>301972</td>\n",
       "      <td>900928</td>\n",
       "      <td>1494131545</td>\n",
       "      <td>67965</td>\n",
       "      <td>430539_1007</td>\n",
       "      <td>1</td>\n",
       "      <td>0</td>\n",
       "    </tr>\n",
       "    <tr>\n",
       "      <th>632715</th>\n",
       "      <td>632715</td>\n",
       "      <td>1012119</td>\n",
       "      <td>1494630040</td>\n",
       "      <td>122592</td>\n",
       "      <td>430548_1007</td>\n",
       "      <td>1</td>\n",
       "      <td>0</td>\n",
       "    </tr>\n",
       "    <tr>\n",
       "      <th>250007</th>\n",
       "      <td>250007</td>\n",
       "      <td>48733</td>\n",
       "      <td>1494079917</td>\n",
       "      <td>57455</td>\n",
       "      <td>430539_1007</td>\n",
       "      <td>1</td>\n",
       "      <td>0</td>\n",
       "    </tr>\n",
       "    <tr>\n",
       "      <th>831037</th>\n",
       "      <td>831037</td>\n",
       "      <td>643226</td>\n",
       "      <td>1494390784</td>\n",
       "      <td>151189</td>\n",
       "      <td>430548_1007</td>\n",
       "      <td>0</td>\n",
       "      <td>1</td>\n",
       "    </tr>\n",
       "  </tbody>\n",
       "</table>\n",
       "<p>1000000 rows × 7 columns</p>\n",
       "</div>"
      ],
      "text/plain": [
       "        Unnamed: 0     user  time_stamp  adgroup_id          pid  nonclk  clk\n",
       "478846      478846   849986  1494025937      101746  430548_1007       0    1\n",
       "142625      142625   142670  1494208772       36822  430539_1007       1    0\n",
       "257311      257311   141474  1494042146       58676  430539_1007       1    0\n",
       "108383      108383  1017614  1494212109       29110  430548_1007       1    0\n",
       "343655      343655   845622  1494251423       76946  430548_1007       0    1\n",
       "...            ...      ...         ...         ...          ...     ...  ...\n",
       "719882      719882   229740  1494327050      133687  430548_1007       1    0\n",
       "301972      301972   900928  1494131545       67965  430539_1007       1    0\n",
       "632715      632715  1012119  1494630040      122592  430548_1007       1    0\n",
       "250007      250007    48733  1494079917       57455  430539_1007       1    0\n",
       "831037      831037   643226  1494390784      151189  430548_1007       0    1\n",
       "\n",
       "[1000000 rows x 7 columns]"
      ]
     },
     "execution_count": 7,
     "metadata": {},
     "output_type": "execute_result"
    }
   ],
   "source": [
    "data.drop_duplicates()"
   ]
  },
  {
   "cell_type": "markdown",
   "id": "c2d927ba",
   "metadata": {},
   "source": [
    "## Analysis By Pid"
   ]
  },
  {
   "cell_type": "code",
   "execution_count": 8,
   "id": "7276a5a1",
   "metadata": {},
   "outputs": [],
   "source": [
    "group = data.groupby('pid').sum()"
   ]
  },
  {
   "cell_type": "code",
   "execution_count": 9,
   "id": "b960564c",
   "metadata": {},
   "outputs": [
    {
     "name": "stdout",
     "output_type": "stream",
     "text": [
      "               Unnamed: 0          user       time_stamp   adgroup_id  nonclk  \\\n",
      "pid                                                                             \n",
      "430539_1007  195318953699  219226781863  548121464649317  37890397826  348290   \n",
      "430548_1007  328977729066  359183103730  946232981010313  64091232604  602212   \n",
      "\n",
      "               clk  \n",
      "pid                 \n",
      "430539_1007  18505  \n",
      "430548_1007  30993  \n"
     ]
    }
   ],
   "source": [
    "print(group)"
   ]
  },
  {
   "cell_type": "code",
   "execution_count": 10,
   "id": "86d57402",
   "metadata": {},
   "outputs": [],
   "source": [
    "group['rate'] = (group['clk']) / ((group['clk']) + (group['nonclk']))"
   ]
  },
  {
   "cell_type": "code",
   "execution_count": 11,
   "id": "4a8ba459",
   "metadata": {},
   "outputs": [],
   "source": [
    "group = group.reset_index()"
   ]
  },
  {
   "cell_type": "code",
   "execution_count": 12,
   "id": "986a34b8",
   "metadata": {},
   "outputs": [
    {
     "data": {
      "text/html": [
       "<div>\n",
       "<style scoped>\n",
       "    .dataframe tbody tr th:only-of-type {\n",
       "        vertical-align: middle;\n",
       "    }\n",
       "\n",
       "    .dataframe tbody tr th {\n",
       "        vertical-align: top;\n",
       "    }\n",
       "\n",
       "    .dataframe thead th {\n",
       "        text-align: right;\n",
       "    }\n",
       "</style>\n",
       "<table border=\"1\" class=\"dataframe\">\n",
       "  <thead>\n",
       "    <tr style=\"text-align: right;\">\n",
       "      <th></th>\n",
       "      <th>pid</th>\n",
       "      <th>Unnamed: 0</th>\n",
       "      <th>user</th>\n",
       "      <th>time_stamp</th>\n",
       "      <th>adgroup_id</th>\n",
       "      <th>nonclk</th>\n",
       "      <th>clk</th>\n",
       "      <th>rate</th>\n",
       "    </tr>\n",
       "  </thead>\n",
       "  <tbody>\n",
       "    <tr>\n",
       "      <th>0</th>\n",
       "      <td>430539_1007</td>\n",
       "      <td>195318953699</td>\n",
       "      <td>219226781863</td>\n",
       "      <td>548121464649317</td>\n",
       "      <td>37890397826</td>\n",
       "      <td>348290</td>\n",
       "      <td>18505</td>\n",
       "      <td>0.050451</td>\n",
       "    </tr>\n",
       "    <tr>\n",
       "      <th>1</th>\n",
       "      <td>430548_1007</td>\n",
       "      <td>328977729066</td>\n",
       "      <td>359183103730</td>\n",
       "      <td>946232981010313</td>\n",
       "      <td>64091232604</td>\n",
       "      <td>602212</td>\n",
       "      <td>30993</td>\n",
       "      <td>0.048946</td>\n",
       "    </tr>\n",
       "  </tbody>\n",
       "</table>\n",
       "</div>"
      ],
      "text/plain": [
       "           pid    Unnamed: 0          user       time_stamp   adgroup_id  \\\n",
       "0  430539_1007  195318953699  219226781863  548121464649317  37890397826   \n",
       "1  430548_1007  328977729066  359183103730  946232981010313  64091232604   \n",
       "\n",
       "   nonclk    clk      rate  \n",
       "0  348290  18505  0.050451  \n",
       "1  602212  30993  0.048946  "
      ]
     },
     "execution_count": 12,
     "metadata": {},
     "output_type": "execute_result"
    }
   ],
   "source": [
    "group"
   ]
  },
  {
   "cell_type": "code",
   "execution_count": 13,
   "id": "3d8b61c1",
   "metadata": {},
   "outputs": [
    {
     "data": {
      "image/png": "[encoded data removed]",
      "text/plain": [
       "<Figure size 432x288 with 1 Axes>"
      ]
     },
     "metadata": {
      "needs_background": "light"
     },
     "output_type": "display_data"
    }
   ],
   "source": [
    "plt.bar(group['pid'],group['rate'])\n",
    "for a in range(0,2) :\n",
    "    plt.text(group['pid'][a],group['rate'][a],group['clk'][a])"
   ]
  },
  {
   "cell_type": "markdown",
   "id": "b662301c",
   "metadata": {},
   "source": [
    "Comparing this two pid, there is no significant difference."
   ]
  },
  {
   "cell_type": "markdown",
   "id": "3c495f26",
   "metadata": {},
   "source": [
    "## Analysis By Age & Gender"
   ]
  },
  {
   "cell_type": "code",
   "execution_count": 14,
   "id": "b649023d",
   "metadata": {},
   "outputs": [],
   "source": [
    "user_profile = pd.read_csv(\"/Users/wu/Desktop/Internship/azure_ads/user_profile.csv\")"
   ]
  },
  {
   "cell_type": "code",
   "execution_count": 15,
   "id": "9d1057ea",
   "metadata": {
    "scrolled": true
   },
   "outputs": [
    {
     "name": "stdout",
     "output_type": "stream",
     "text": [
      "         Unnamed: 0  userid  gender  age_level  pvalue_level  occupation\n",
      "0                 0     234       2          5           NaN           0\n",
      "1                 1     523       2          2           1.0           1\n",
      "2                 2     612       1          2           2.0           0\n",
      "3                 3    1670       2          4           NaN           0\n",
      "4                 4    2545       1          4           NaN           0\n",
      "...             ...     ...     ...        ...           ...         ...\n",
      "1048570     1048570  272699       2          4           2.0           0\n",
      "1048571     1048571  273113       1          5           NaN           0\n",
      "1048572     1048572  273589       2          4           NaN           0\n",
      "1048573     1048573  273943       2          4           NaN           0\n",
      "1048574     1048574  274358       2          5           NaN           0\n",
      "\n",
      "[1048575 rows x 6 columns]\n"
     ]
    }
   ],
   "source": [
    "print(user_profile)"
   ]
  },
  {
   "cell_type": "code",
   "execution_count": 16,
   "id": "fab61b84",
   "metadata": {},
   "outputs": [],
   "source": [
    "user_profile.rename(columns={'userid':'user'},inplace=True)"
   ]
  },
  {
   "cell_type": "code",
   "execution_count": 17,
   "id": "213cb844",
   "metadata": {},
   "outputs": [],
   "source": [
    "merge = pd.merge(data,user_profile, on = [\"user\"], how = \"left\")"
   ]
  },
  {
   "cell_type": "code",
   "execution_count": 18,
   "id": "17412e25",
   "metadata": {},
   "outputs": [
    {
     "name": "stdout",
     "output_type": "stream",
     "text": [
      "        Unnamed: 0_x     user  time_stamp  adgroup_id          pid  nonclk  \\\n",
      "0             478846   849986  1494025937      101746  430548_1007       0   \n",
      "1             142625   142670  1494208772       36822  430539_1007       1   \n",
      "2             257311   141474  1494042146       58676  430539_1007       1   \n",
      "3             108383  1017614  1494212109       29110  430548_1007       1   \n",
      "4             343655   845622  1494251423       76946  430548_1007       0   \n",
      "...              ...      ...         ...         ...          ...     ...   \n",
      "999995        719882   229740  1494327050      133687  430548_1007       1   \n",
      "999996        301972   900928  1494131545       67965  430539_1007       1   \n",
      "999997        632715  1012119  1494630040      122592  430548_1007       1   \n",
      "999998        250007    48733  1494079917       57455  430539_1007       1   \n",
      "999999        831037   643226  1494390784      151189  430548_1007       0   \n",
      "\n",
      "        clk  Unnamed: 0_y  gender  age_level  pvalue_level  occupation  \n",
      "0         1      743731.0     2.0        6.0           2.0         0.0  \n",
      "1         0      114733.0     2.0        3.0           2.0         0.0  \n",
      "2         0      586176.0     2.0        3.0           NaN         0.0  \n",
      "3         0     1036582.0     2.0        3.0           2.0         0.0  \n",
      "4         1      291676.0     2.0        4.0           NaN         0.0  \n",
      "...     ...           ...     ...        ...           ...         ...  \n",
      "999995    0      639436.0     1.0        3.0           2.0         0.0  \n",
      "999996    0      433676.0     2.0        4.0           3.0         0.0  \n",
      "999997    0      905561.0     1.0        4.0           1.0         0.0  \n",
      "999998    0      769734.0     2.0        5.0           NaN         0.0  \n",
      "999999    1      363107.0     2.0        5.0           2.0         0.0  \n",
      "\n",
      "[1000000 rows x 12 columns]\n"
     ]
    }
   ],
   "source": [
    "print(merge)"
   ]
  },
  {
   "cell_type": "code",
   "execution_count": 19,
   "id": "a553054c",
   "metadata": {},
   "outputs": [],
   "source": [
    "merge = merge.dropna(axis=0)"
   ]
  },
  {
   "cell_type": "code",
   "execution_count": 20,
   "id": "2c340a7c",
   "metadata": {},
   "outputs": [
    {
     "data": {
      "text/html": [
       "<div>\n",
       "<style scoped>\n",
       "    .dataframe tbody tr th:only-of-type {\n",
       "        vertical-align: middle;\n",
       "    }\n",
       "\n",
       "    .dataframe tbody tr th {\n",
       "        vertical-align: top;\n",
       "    }\n",
       "\n",
       "    .dataframe thead th {\n",
       "        text-align: right;\n",
       "    }\n",
       "</style>\n",
       "<table border=\"1\" class=\"dataframe\">\n",
       "  <thead>\n",
       "    <tr style=\"text-align: right;\">\n",
       "      <th></th>\n",
       "      <th>Unnamed: 0_x</th>\n",
       "      <th>user</th>\n",
       "      <th>time_stamp</th>\n",
       "      <th>adgroup_id</th>\n",
       "      <th>pid</th>\n",
       "      <th>nonclk</th>\n",
       "      <th>clk</th>\n",
       "      <th>Unnamed: 0_y</th>\n",
       "      <th>gender</th>\n",
       "      <th>age_level</th>\n",
       "      <th>pvalue_level</th>\n",
       "      <th>occupation</th>\n",
       "    </tr>\n",
       "  </thead>\n",
       "  <tbody>\n",
       "    <tr>\n",
       "      <th>0</th>\n",
       "      <td>478846</td>\n",
       "      <td>849986</td>\n",
       "      <td>1494025937</td>\n",
       "      <td>101746</td>\n",
       "      <td>430548_1007</td>\n",
       "      <td>0</td>\n",
       "      <td>1</td>\n",
       "      <td>743731.0</td>\n",
       "      <td>2.0</td>\n",
       "      <td>6.0</td>\n",
       "      <td>2.0</td>\n",
       "      <td>0.0</td>\n",
       "    </tr>\n",
       "    <tr>\n",
       "      <th>1</th>\n",
       "      <td>142625</td>\n",
       "      <td>142670</td>\n",
       "      <td>1494208772</td>\n",
       "      <td>36822</td>\n",
       "      <td>430539_1007</td>\n",
       "      <td>1</td>\n",
       "      <td>0</td>\n",
       "      <td>114733.0</td>\n",
       "      <td>2.0</td>\n",
       "      <td>3.0</td>\n",
       "      <td>2.0</td>\n",
       "      <td>0.0</td>\n",
       "    </tr>\n",
       "    <tr>\n",
       "      <th>3</th>\n",
       "      <td>108383</td>\n",
       "      <td>1017614</td>\n",
       "      <td>1494212109</td>\n",
       "      <td>29110</td>\n",
       "      <td>430548_1007</td>\n",
       "      <td>1</td>\n",
       "      <td>0</td>\n",
       "      <td>1036582.0</td>\n",
       "      <td>2.0</td>\n",
       "      <td>3.0</td>\n",
       "      <td>2.0</td>\n",
       "      <td>0.0</td>\n",
       "    </tr>\n",
       "    <tr>\n",
       "      <th>6</th>\n",
       "      <td>1023293</td>\n",
       "      <td>86606</td>\n",
       "      <td>1494088953</td>\n",
       "      <td>179498</td>\n",
       "      <td>430548_1007</td>\n",
       "      <td>0</td>\n",
       "      <td>1</td>\n",
       "      <td>1001068.0</td>\n",
       "      <td>2.0</td>\n",
       "      <td>4.0</td>\n",
       "      <td>1.0</td>\n",
       "      <td>0.0</td>\n",
       "    </tr>\n",
       "    <tr>\n",
       "      <th>14</th>\n",
       "      <td>796103</td>\n",
       "      <td>785778</td>\n",
       "      <td>1494575677</td>\n",
       "      <td>146422</td>\n",
       "      <td>430539_1007</td>\n",
       "      <td>0</td>\n",
       "      <td>1</td>\n",
       "      <td>579259.0</td>\n",
       "      <td>1.0</td>\n",
       "      <td>3.0</td>\n",
       "      <td>2.0</td>\n",
       "      <td>0.0</td>\n",
       "    </tr>\n",
       "    <tr>\n",
       "      <th>...</th>\n",
       "      <td>...</td>\n",
       "      <td>...</td>\n",
       "      <td>...</td>\n",
       "      <td>...</td>\n",
       "      <td>...</td>\n",
       "      <td>...</td>\n",
       "      <td>...</td>\n",
       "      <td>...</td>\n",
       "      <td>...</td>\n",
       "      <td>...</td>\n",
       "      <td>...</td>\n",
       "      <td>...</td>\n",
       "    </tr>\n",
       "    <tr>\n",
       "      <th>999994</th>\n",
       "      <td>714016</td>\n",
       "      <td>276529</td>\n",
       "      <td>1494270270</td>\n",
       "      <td>133095</td>\n",
       "      <td>430539_1007</td>\n",
       "      <td>1</td>\n",
       "      <td>0</td>\n",
       "      <td>201432.0</td>\n",
       "      <td>2.0</td>\n",
       "      <td>4.0</td>\n",
       "      <td>2.0</td>\n",
       "      <td>0.0</td>\n",
       "    </tr>\n",
       "    <tr>\n",
       "      <th>999995</th>\n",
       "      <td>719882</td>\n",
       "      <td>229740</td>\n",
       "      <td>1494327050</td>\n",
       "      <td>133687</td>\n",
       "      <td>430548_1007</td>\n",
       "      <td>1</td>\n",
       "      <td>0</td>\n",
       "      <td>639436.0</td>\n",
       "      <td>1.0</td>\n",
       "      <td>3.0</td>\n",
       "      <td>2.0</td>\n",
       "      <td>0.0</td>\n",
       "    </tr>\n",
       "    <tr>\n",
       "      <th>999996</th>\n",
       "      <td>301972</td>\n",
       "      <td>900928</td>\n",
       "      <td>1494131545</td>\n",
       "      <td>67965</td>\n",
       "      <td>430539_1007</td>\n",
       "      <td>1</td>\n",
       "      <td>0</td>\n",
       "      <td>433676.0</td>\n",
       "      <td>2.0</td>\n",
       "      <td>4.0</td>\n",
       "      <td>3.0</td>\n",
       "      <td>0.0</td>\n",
       "    </tr>\n",
       "    <tr>\n",
       "      <th>999997</th>\n",
       "      <td>632715</td>\n",
       "      <td>1012119</td>\n",
       "      <td>1494630040</td>\n",
       "      <td>122592</td>\n",
       "      <td>430548_1007</td>\n",
       "      <td>1</td>\n",
       "      <td>0</td>\n",
       "      <td>905561.0</td>\n",
       "      <td>1.0</td>\n",
       "      <td>4.0</td>\n",
       "      <td>1.0</td>\n",
       "      <td>0.0</td>\n",
       "    </tr>\n",
       "    <tr>\n",
       "      <th>999999</th>\n",
       "      <td>831037</td>\n",
       "      <td>643226</td>\n",
       "      <td>1494390784</td>\n",
       "      <td>151189</td>\n",
       "      <td>430548_1007</td>\n",
       "      <td>0</td>\n",
       "      <td>1</td>\n",
       "      <td>363107.0</td>\n",
       "      <td>2.0</td>\n",
       "      <td>5.0</td>\n",
       "      <td>2.0</td>\n",
       "      <td>0.0</td>\n",
       "    </tr>\n",
       "  </tbody>\n",
       "</table>\n",
       "<p>433328 rows × 12 columns</p>\n",
       "</div>"
      ],
      "text/plain": [
       "        Unnamed: 0_x     user  time_stamp  adgroup_id          pid  nonclk  \\\n",
       "0             478846   849986  1494025937      101746  430548_1007       0   \n",
       "1             142625   142670  1494208772       36822  430539_1007       1   \n",
       "3             108383  1017614  1494212109       29110  430548_1007       1   \n",
       "6            1023293    86606  1494088953      179498  430548_1007       0   \n",
       "14            796103   785778  1494575677      146422  430539_1007       0   \n",
       "...              ...      ...         ...         ...          ...     ...   \n",
       "999994        714016   276529  1494270270      133095  430539_1007       1   \n",
       "999995        719882   229740  1494327050      133687  430548_1007       1   \n",
       "999996        301972   900928  1494131545       67965  430539_1007       1   \n",
       "999997        632715  1012119  1494630040      122592  430548_1007       1   \n",
       "999999        831037   643226  1494390784      151189  430548_1007       0   \n",
       "\n",
       "        clk  Unnamed: 0_y  gender  age_level  pvalue_level  occupation  \n",
       "0         1      743731.0     2.0        6.0           2.0         0.0  \n",
       "1         0      114733.0     2.0        3.0           2.0         0.0  \n",
       "3         0     1036582.0     2.0        3.0           2.0         0.0  \n",
       "6         1     1001068.0     2.0        4.0           1.0         0.0  \n",
       "14        1      579259.0     1.0        3.0           2.0         0.0  \n",
       "...     ...           ...     ...        ...           ...         ...  \n",
       "999994    0      201432.0     2.0        4.0           2.0         0.0  \n",
       "999995    0      639436.0     1.0        3.0           2.0         0.0  \n",
       "999996    0      433676.0     2.0        4.0           3.0         0.0  \n",
       "999997    0      905561.0     1.0        4.0           1.0         0.0  \n",
       "999999    1      363107.0     2.0        5.0           2.0         0.0  \n",
       "\n",
       "[433328 rows x 12 columns]"
      ]
     },
     "execution_count": 20,
     "metadata": {},
     "output_type": "execute_result"
    }
   ],
   "source": [
    "merge.drop_duplicates()"
   ]
  },
  {
   "cell_type": "code",
   "execution_count": 21,
   "id": "0c0f8d24",
   "metadata": {},
   "outputs": [],
   "source": [
    "age = merge.groupby(['age_level','gender']).sum()"
   ]
  },
  {
   "cell_type": "code",
   "execution_count": 22,
   "id": "e3dabedd",
   "metadata": {},
   "outputs": [],
   "source": [
    "age['rate'] = (age['clk'] / ((age['clk']) + (age['nonclk'])))"
   ]
  },
  {
   "cell_type": "code",
   "execution_count": 23,
   "id": "adeb750e",
   "metadata": {},
   "outputs": [],
   "source": [
    "age = age.reset_index()"
   ]
  },
  {
   "cell_type": "code",
   "execution_count": 45,
   "id": "8c357635",
   "metadata": {},
   "outputs": [],
   "source": [
    "gender1 = []\n",
    "for i in range(0,14):\n",
    "    if age.loc[i]['gender'] == 1 :\n",
    "        gender1.append(age['rate'][i])\n"
   ]
  },
  {
   "cell_type": "code",
   "execution_count": 46,
   "id": "ece3d16f",
   "metadata": {},
   "outputs": [],
   "source": [
    "gender2 =[]\n",
    "for i in range(0,14) :\n",
    "    if age.loc[i]['gender'] == 2 :\n",
    "        gender2.append(age['rate'][i])"
   ]
  },
  {
   "cell_type": "code",
   "execution_count": 47,
   "id": "c8b598c7",
   "metadata": {},
   "outputs": [],
   "source": [
    "num1 =[]\n",
    "for i in range(0,14):\n",
    "    if age.loc[i]['gender'] == 1 :\n",
    "        num1.append(age['clk'][i])"
   ]
  },
  {
   "cell_type": "code",
   "execution_count": 48,
   "id": "ee79a50b",
   "metadata": {},
   "outputs": [],
   "source": [
    "num2 = []\n",
    "for i in range(0,14):\n",
    "    if age.loc[i]['gender'] == 2 :\n",
    "        num2.append(age['clk'][i])\n"
   ]
  },
  {
   "cell_type": "code",
   "execution_count": 49,
   "id": "8ef29b55",
   "metadata": {},
   "outputs": [
    {
     "data": {
      "text/plain": [
       "[2, 432, 2200, 4289, 3618, 2740, 322]"
      ]
     },
     "execution_count": 49,
     "metadata": {},
     "output_type": "execute_result"
    }
   ],
   "source": [
    "num2"
   ]
  },
  {
   "cell_type": "code",
   "execution_count": 50,
   "id": "58915b88",
   "metadata": {},
   "outputs": [
    {
     "data": {
      "image/png": "[encoded data removed]",
      "text/plain": [
       "<Figure size 432x288 with 1 Axes>"
      ]
     },
     "metadata": {
      "needs_background": "light"
     },
     "output_type": "display_data"
    }
   ],
   "source": [
    "x = np.arange(7)\n",
    "bar_width = 0.3\n",
    "\n",
    "plt.bar(x, gender1, bar_width,label = 'male')\n",
    "plt.bar(x+bar_width, gender2, bar_width, align=\"center\",label='female')\n",
    "\n",
    "plt.legend()\n",
    "\n",
    "i = 0\n",
    "j = 0\n",
    "for a,b in zip(x,gender1):\n",
    "    plt.text(a,b,num1[i],ha=\"center\",va= \"bottom\")\n",
    "    i += 1\n",
    "\n",
    "for a,b in zip(x+0.3,gender2):\n",
    "    plt.text(a,b,num2[j],ha=\"center\",va= \"bottom\")\n",
    "    j += 1\n",
    "\n",
    "plt.xlabel(\"Age_level\")\n",
    "plt.ylabel(\"Rate\")\n",
    "plt.show()"
   ]
  },
  {
   "cell_type": "markdown",
   "id": "193025bb",
   "metadata": {},
   "source": [
    "Based on the plot, we can conclude that the rate of male in age_level = 0 has the highest rate while the female in this age level has the lowest in this data set. As for the other groups, there was no significant difference in the data. We can appropriately increase the ad placement for men in age_level 0 and decrease the placement for women in age_level 0."
   ]
  },
  {
   "cell_type": "code",
   "execution_count": null,
   "id": "f967aa15",
   "metadata": {},
   "outputs": [],
   "source": [
    "merge['time_stamp'] = pd.to_datetime(merge['time_stamp'],unit='s')"
   ]
  },
  {
   "cell_type": "code",
   "execution_count": null,
   "id": "fd4b6e87",
   "metadata": {},
   "outputs": [],
   "source": [
    "df = merge"
   ]
  },
  {
   "cell_type": "code",
   "execution_count": null,
   "id": "99b71a26",
   "metadata": {},
   "outputs": [],
   "source": [
    "df['day'] = merge['time_stamp'].dt.day"
   ]
  },
  {
   "cell_type": "code",
   "execution_count": null,
   "id": "7854949c",
   "metadata": {},
   "outputs": [],
   "source": [
    "df['hour'] = merge['time_stamp'].dt.hour"
   ]
  },
  {
   "cell_type": "code",
   "execution_count": null,
   "id": "25c29ab2",
   "metadata": {},
   "outputs": [],
   "source": [
    "time = df.groupby(['day','hour']).sum()"
   ]
  },
  {
   "cell_type": "code",
   "execution_count": 25,
   "id": "a41141f2",
   "metadata": {},
   "outputs": [
    {
     "ename": "SyntaxError",
     "evalue": "cannot assign to literal (<unknown>, line 1)",
     "output_type": "error",
     "traceback": [
      "Traceback \u001b[0;36m(most recent call last)\u001b[0m:\n",
      "  File \u001b[1;32m\"/Users/wu/opt/anaconda3/lib/python3.9/site-packages/IPython/core/interactiveshell.py\"\u001b[0m, line \u001b[1;32m3444\u001b[0m, in \u001b[1;35mrun_code\u001b[0m\n    exec(code_obj, self.user_global_ns, self.user_ns)\n",
      "  File \u001b[1;32m\"/var/folders/pz/285374fs0px_5jgty6z1tbqm0000gn/T/ipykernel_38342/3829594348.py\"\u001b[0m, line \u001b[1;32m1\u001b[0m, in \u001b[1;35m<module>\u001b[0m\n    get_ipython().run_line_magic('time', \"['rate'] = (time['clk'] / ((time['clk']) + (time['nonclk'])))\")\n",
      "  File \u001b[1;32m\"/Users/wu/opt/anaconda3/lib/python3.9/site-packages/IPython/core/interactiveshell.py\"\u001b[0m, line \u001b[1;32m2351\u001b[0m, in \u001b[1;35mrun_line_magic\u001b[0m\n    result = fn(*args, **kwargs)\n",
      "  File \u001b[1;32m\"/Users/wu/opt/anaconda3/lib/python3.9/site-packages/decorator.py\"\u001b[0m, line \u001b[1;32m232\u001b[0m, in \u001b[1;35mfun\u001b[0m\n    return caller(func, *(extras + args), **kw)\n",
      "  File \u001b[1;32m\"/Users/wu/opt/anaconda3/lib/python3.9/site-packages/IPython/core/magic.py\"\u001b[0m, line \u001b[1;32m187\u001b[0m, in \u001b[1;35m<lambda>\u001b[0m\n    call = lambda f, *a, **k: f(*a, **k)\n",
      "  File \u001b[1;32m\"/Users/wu/opt/anaconda3/lib/python3.9/site-packages/IPython/core/magics/execution.py\"\u001b[0m, line \u001b[1;32m1280\u001b[0m, in \u001b[1;35mtime\u001b[0m\n    expr_ast = self.shell.compile.ast_parse(expr)\n",
      "\u001b[0;36m  File \u001b[0;32m\"/Users/wu/opt/anaconda3/lib/python3.9/site-packages/IPython/core/compilerop.py\"\u001b[0;36m, line \u001b[0;32m101\u001b[0;36m, in \u001b[0;35mast_parse\u001b[0;36m\u001b[0m\n\u001b[0;31m    return compile(source, filename, symbol, self.flags | PyCF_ONLY_AST, 1)\u001b[0m\n",
      "\u001b[0;36m  File \u001b[0;32m\"<unknown>\"\u001b[0;36m, line \u001b[0;32m1\u001b[0m\n\u001b[0;31m    ['rate'] = (time['clk'] / ((time['clk']) + (time['nonclk'])))\u001b[0m\n\u001b[0m     ^\u001b[0m\n\u001b[0;31mSyntaxError\u001b[0m\u001b[0;31m:\u001b[0m cannot assign to literal\n"
     ]
    }
   ],
   "source": [
    "time['rate'] = (time['clk'] / ((time['clk']) + (time['nonclk'])))"
   ]
  },
  {
   "cell_type": "code",
   "execution_count": 26,
   "id": "4276cd44",
   "metadata": {},
   "outputs": [
    {
     "name": "stdout",
     "output_type": "stream",
     "text": [
      "CPU times: user 2 µs, sys: 0 ns, total: 2 µs\n",
      "Wall time: 7.15 µs\n"
     ]
    }
   ],
   "source": [
    "time"
   ]
  },
  {
   "cell_type": "code",
   "execution_count": 27,
   "id": "99f14d5c",
   "metadata": {},
   "outputs": [
    {
     "ename": "NameError",
     "evalue": "name 'time' is not defined",
     "output_type": "error",
     "traceback": [
      "\u001b[0;31m---------------------------------------------------------------------------\u001b[0m",
      "\u001b[0;31mNameError\u001b[0m                                 Traceback (most recent call last)",
      "\u001b[0;32m/var/folders/pz/285374fs0px_5jgty6z1tbqm0000gn/T/ipykernel_38342/3873586235.py\u001b[0m in \u001b[0;36m<module>\u001b[0;34m\u001b[0m\n\u001b[0;32m----> 1\u001b[0;31m \u001b[0mtime\u001b[0m \u001b[0;34m=\u001b[0m \u001b[0mtime\u001b[0m\u001b[0;34m.\u001b[0m\u001b[0mreset_index\u001b[0m\u001b[0;34m(\u001b[0m\u001b[0;34m)\u001b[0m\u001b[0;34m\u001b[0m\u001b[0;34m\u001b[0m\u001b[0m\n\u001b[0m",
      "\u001b[0;31mNameError\u001b[0m: name 'time' is not defined"
     ]
    }
   ],
   "source": [
    "time = time.reset_index()"
   ]
  },
  {
   "cell_type": "code",
   "execution_count": 28,
   "id": "a77c069a",
   "metadata": {},
   "outputs": [
    {
     "ename": "NameError",
     "evalue": "name 'time' is not defined",
     "output_type": "error",
     "traceback": [
      "\u001b[0;31m---------------------------------------------------------------------------\u001b[0m",
      "\u001b[0;31mNameError\u001b[0m                                 Traceback (most recent call last)",
      "\u001b[0;32m/var/folders/pz/285374fs0px_5jgty6z1tbqm0000gn/T/ipykernel_38342/3521080097.py\u001b[0m in \u001b[0;36m<module>\u001b[0;34m\u001b[0m\n\u001b[1;32m      3\u001b[0m \u001b[0mnum5\u001b[0m \u001b[0;34m=\u001b[0m \u001b[0;34m[\u001b[0m\u001b[0;34m]\u001b[0m\u001b[0;34m\u001b[0m\u001b[0;34m\u001b[0m\u001b[0m\n\u001b[1;32m      4\u001b[0m \u001b[0;32mfor\u001b[0m \u001b[0mi\u001b[0m \u001b[0;32min\u001b[0m \u001b[0mrange\u001b[0m\u001b[0;34m(\u001b[0m\u001b[0;36m0\u001b[0m\u001b[0;34m,\u001b[0m\u001b[0;36m192\u001b[0m\u001b[0;34m)\u001b[0m\u001b[0;34m:\u001b[0m\u001b[0;34m\u001b[0m\u001b[0;34m\u001b[0m\u001b[0m\n\u001b[0;32m----> 5\u001b[0;31m     \u001b[0;32mif\u001b[0m \u001b[0mtime\u001b[0m\u001b[0;34m.\u001b[0m\u001b[0mloc\u001b[0m\u001b[0;34m[\u001b[0m\u001b[0mi\u001b[0m\u001b[0;34m]\u001b[0m\u001b[0;34m[\u001b[0m\u001b[0;34m'day'\u001b[0m\u001b[0;34m]\u001b[0m \u001b[0;34m==\u001b[0m \u001b[0;36m5\u001b[0m \u001b[0;34m:\u001b[0m\u001b[0;34m\u001b[0m\u001b[0;34m\u001b[0m\u001b[0m\n\u001b[0m\u001b[1;32m      6\u001b[0m         \u001b[0mday5\u001b[0m\u001b[0;34m.\u001b[0m\u001b[0mappend\u001b[0m\u001b[0;34m(\u001b[0m\u001b[0mtime\u001b[0m\u001b[0;34m[\u001b[0m\u001b[0;34m'rate'\u001b[0m\u001b[0;34m]\u001b[0m\u001b[0;34m[\u001b[0m\u001b[0mi\u001b[0m\u001b[0;34m]\u001b[0m\u001b[0;34m)\u001b[0m\u001b[0;34m\u001b[0m\u001b[0;34m\u001b[0m\u001b[0m\n\u001b[1;32m      7\u001b[0m         \u001b[0mhour5\u001b[0m\u001b[0;34m.\u001b[0m\u001b[0mappend\u001b[0m\u001b[0;34m(\u001b[0m\u001b[0mtime\u001b[0m\u001b[0;34m[\u001b[0m\u001b[0;34m'hour'\u001b[0m\u001b[0;34m]\u001b[0m\u001b[0;34m[\u001b[0m\u001b[0mi\u001b[0m\u001b[0;34m]\u001b[0m\u001b[0;34m)\u001b[0m\u001b[0;34m\u001b[0m\u001b[0;34m\u001b[0m\u001b[0m\n",
      "\u001b[0;31mNameError\u001b[0m: name 'time' is not defined"
     ]
    }
   ],
   "source": [
    "day5 = []\n",
    "hour5 = []\n",
    "num5 = []\n",
    "for i in range(0,192):\n",
    "    if time.loc[i]['day'] == 5 :\n",
    "        day5.append(time['rate'][i])\n",
    "        hour5.append(time['hour'][i])\n",
    "        num5.append(time['clk'][i])"
   ]
  },
  {
   "cell_type": "code",
   "execution_count": 29,
   "id": "41d77097",
   "metadata": {},
   "outputs": [
    {
     "ename": "NameError",
     "evalue": "name 'time' is not defined",
     "output_type": "error",
     "traceback": [
      "\u001b[0;31m---------------------------------------------------------------------------\u001b[0m",
      "\u001b[0;31mNameError\u001b[0m                                 Traceback (most recent call last)",
      "\u001b[0;32m/var/folders/pz/285374fs0px_5jgty6z1tbqm0000gn/T/ipykernel_38342/2730187169.py\u001b[0m in \u001b[0;36m<module>\u001b[0;34m\u001b[0m\n\u001b[1;32m      3\u001b[0m \u001b[0mnum6\u001b[0m \u001b[0;34m=\u001b[0m \u001b[0;34m[\u001b[0m\u001b[0;34m]\u001b[0m\u001b[0;34m\u001b[0m\u001b[0;34m\u001b[0m\u001b[0m\n\u001b[1;32m      4\u001b[0m \u001b[0;32mfor\u001b[0m \u001b[0mi\u001b[0m \u001b[0;32min\u001b[0m \u001b[0mrange\u001b[0m\u001b[0;34m(\u001b[0m\u001b[0;36m0\u001b[0m\u001b[0;34m,\u001b[0m\u001b[0;36m192\u001b[0m\u001b[0;34m)\u001b[0m\u001b[0;34m:\u001b[0m\u001b[0;34m\u001b[0m\u001b[0;34m\u001b[0m\u001b[0m\n\u001b[0;32m----> 5\u001b[0;31m     \u001b[0;32mif\u001b[0m \u001b[0mtime\u001b[0m\u001b[0;34m.\u001b[0m\u001b[0mloc\u001b[0m\u001b[0;34m[\u001b[0m\u001b[0mi\u001b[0m\u001b[0;34m]\u001b[0m\u001b[0;34m[\u001b[0m\u001b[0;34m'day'\u001b[0m\u001b[0;34m]\u001b[0m \u001b[0;34m==\u001b[0m \u001b[0;36m6\u001b[0m \u001b[0;34m:\u001b[0m\u001b[0;34m\u001b[0m\u001b[0;34m\u001b[0m\u001b[0m\n\u001b[0m\u001b[1;32m      6\u001b[0m         \u001b[0mday6\u001b[0m\u001b[0;34m.\u001b[0m\u001b[0mappend\u001b[0m\u001b[0;34m(\u001b[0m\u001b[0mtime\u001b[0m\u001b[0;34m[\u001b[0m\u001b[0;34m'rate'\u001b[0m\u001b[0;34m]\u001b[0m\u001b[0;34m[\u001b[0m\u001b[0mi\u001b[0m\u001b[0;34m]\u001b[0m\u001b[0;34m)\u001b[0m\u001b[0;34m\u001b[0m\u001b[0;34m\u001b[0m\u001b[0m\n\u001b[1;32m      7\u001b[0m         \u001b[0mhour6\u001b[0m\u001b[0;34m.\u001b[0m\u001b[0mappend\u001b[0m\u001b[0;34m(\u001b[0m\u001b[0mtime\u001b[0m\u001b[0;34m[\u001b[0m\u001b[0;34m'hour'\u001b[0m\u001b[0;34m]\u001b[0m\u001b[0;34m[\u001b[0m\u001b[0mi\u001b[0m\u001b[0;34m]\u001b[0m\u001b[0;34m)\u001b[0m\u001b[0;34m\u001b[0m\u001b[0;34m\u001b[0m\u001b[0m\n",
      "\u001b[0;31mNameError\u001b[0m: name 'time' is not defined"
     ]
    }
   ],
   "source": [
    "day6 = []\n",
    "hour6 = []\n",
    "num6 = []\n",
    "for i in range(0,192):\n",
    "    if time.loc[i]['day'] == 6 :\n",
    "        day6.append(time['rate'][i])\n",
    "        hour6.append(time['hour'][i])\n",
    "        num6.append(time['clk'][i])"
   ]
  },
  {
   "cell_type": "code",
   "execution_count": 30,
   "id": "87a0fecb",
   "metadata": {},
   "outputs": [
    {
     "ename": "NameError",
     "evalue": "name 'time' is not defined",
     "output_type": "error",
     "traceback": [
      "\u001b[0;31m---------------------------------------------------------------------------\u001b[0m",
      "\u001b[0;31mNameError\u001b[0m                                 Traceback (most recent call last)",
      "\u001b[0;32m/var/folders/pz/285374fs0px_5jgty6z1tbqm0000gn/T/ipykernel_38342/3174978876.py\u001b[0m in \u001b[0;36m<module>\u001b[0;34m\u001b[0m\n\u001b[1;32m      3\u001b[0m \u001b[0mnum7\u001b[0m \u001b[0;34m=\u001b[0m \u001b[0;34m[\u001b[0m\u001b[0;34m]\u001b[0m\u001b[0;34m\u001b[0m\u001b[0;34m\u001b[0m\u001b[0m\n\u001b[1;32m      4\u001b[0m \u001b[0;32mfor\u001b[0m \u001b[0mi\u001b[0m \u001b[0;32min\u001b[0m \u001b[0mrange\u001b[0m\u001b[0;34m(\u001b[0m\u001b[0;36m0\u001b[0m\u001b[0;34m,\u001b[0m\u001b[0;36m192\u001b[0m\u001b[0;34m)\u001b[0m\u001b[0;34m:\u001b[0m\u001b[0;34m\u001b[0m\u001b[0;34m\u001b[0m\u001b[0m\n\u001b[0;32m----> 5\u001b[0;31m     \u001b[0;32mif\u001b[0m \u001b[0mtime\u001b[0m\u001b[0;34m.\u001b[0m\u001b[0mloc\u001b[0m\u001b[0;34m[\u001b[0m\u001b[0mi\u001b[0m\u001b[0;34m]\u001b[0m\u001b[0;34m[\u001b[0m\u001b[0;34m'day'\u001b[0m\u001b[0;34m]\u001b[0m \u001b[0;34m==\u001b[0m \u001b[0;36m7\u001b[0m \u001b[0;34m:\u001b[0m\u001b[0;34m\u001b[0m\u001b[0;34m\u001b[0m\u001b[0m\n\u001b[0m\u001b[1;32m      6\u001b[0m         \u001b[0mday7\u001b[0m\u001b[0;34m.\u001b[0m\u001b[0mappend\u001b[0m\u001b[0;34m(\u001b[0m\u001b[0mtime\u001b[0m\u001b[0;34m[\u001b[0m\u001b[0;34m'rate'\u001b[0m\u001b[0;34m]\u001b[0m\u001b[0;34m[\u001b[0m\u001b[0mi\u001b[0m\u001b[0;34m]\u001b[0m\u001b[0;34m)\u001b[0m\u001b[0;34m\u001b[0m\u001b[0;34m\u001b[0m\u001b[0m\n\u001b[1;32m      7\u001b[0m         \u001b[0mhour7\u001b[0m\u001b[0;34m.\u001b[0m\u001b[0mappend\u001b[0m\u001b[0;34m(\u001b[0m\u001b[0mtime\u001b[0m\u001b[0;34m[\u001b[0m\u001b[0;34m'hour'\u001b[0m\u001b[0;34m]\u001b[0m\u001b[0;34m[\u001b[0m\u001b[0mi\u001b[0m\u001b[0;34m]\u001b[0m\u001b[0;34m)\u001b[0m\u001b[0;34m\u001b[0m\u001b[0;34m\u001b[0m\u001b[0m\n",
      "\u001b[0;31mNameError\u001b[0m: name 'time' is not defined"
     ]
    }
   ],
   "source": [
    "day7 = []\n",
    "hour7 = []\n",
    "num7 = []\n",
    "for i in range(0,192):\n",
    "    if time.loc[i]['day'] == 7 :\n",
    "        day7.append(time['rate'][i]) \n",
    "        hour7.append(time['hour'][i])\n",
    "        num7.append(time['clk'][i])"
   ]
  },
  {
   "cell_type": "code",
   "execution_count": 31,
   "id": "8858dc7c",
   "metadata": {},
   "outputs": [
    {
     "ename": "NameError",
     "evalue": "name 'time' is not defined",
     "output_type": "error",
     "traceback": [
      "\u001b[0;31m---------------------------------------------------------------------------\u001b[0m",
      "\u001b[0;31mNameError\u001b[0m                                 Traceback (most recent call last)",
      "\u001b[0;32m/var/folders/pz/285374fs0px_5jgty6z1tbqm0000gn/T/ipykernel_38342/1102565134.py\u001b[0m in \u001b[0;36m<module>\u001b[0;34m\u001b[0m\n\u001b[1;32m      3\u001b[0m \u001b[0mnum8\u001b[0m \u001b[0;34m=\u001b[0m \u001b[0;34m[\u001b[0m\u001b[0;34m]\u001b[0m\u001b[0;34m\u001b[0m\u001b[0;34m\u001b[0m\u001b[0m\n\u001b[1;32m      4\u001b[0m \u001b[0;32mfor\u001b[0m \u001b[0mi\u001b[0m \u001b[0;32min\u001b[0m \u001b[0mrange\u001b[0m\u001b[0;34m(\u001b[0m\u001b[0;36m0\u001b[0m\u001b[0;34m,\u001b[0m\u001b[0;36m192\u001b[0m\u001b[0;34m)\u001b[0m\u001b[0;34m:\u001b[0m\u001b[0;34m\u001b[0m\u001b[0;34m\u001b[0m\u001b[0m\n\u001b[0;32m----> 5\u001b[0;31m     \u001b[0;32mif\u001b[0m \u001b[0mtime\u001b[0m\u001b[0;34m.\u001b[0m\u001b[0mloc\u001b[0m\u001b[0;34m[\u001b[0m\u001b[0mi\u001b[0m\u001b[0;34m]\u001b[0m\u001b[0;34m[\u001b[0m\u001b[0;34m'day'\u001b[0m\u001b[0;34m]\u001b[0m \u001b[0;34m==\u001b[0m \u001b[0;36m8\u001b[0m \u001b[0;34m:\u001b[0m\u001b[0;34m\u001b[0m\u001b[0;34m\u001b[0m\u001b[0m\n\u001b[0m\u001b[1;32m      6\u001b[0m         \u001b[0mday8\u001b[0m\u001b[0;34m.\u001b[0m\u001b[0mappend\u001b[0m\u001b[0;34m(\u001b[0m\u001b[0mtime\u001b[0m\u001b[0;34m[\u001b[0m\u001b[0;34m'rate'\u001b[0m\u001b[0;34m]\u001b[0m\u001b[0;34m[\u001b[0m\u001b[0mi\u001b[0m\u001b[0;34m]\u001b[0m\u001b[0;34m)\u001b[0m\u001b[0;34m\u001b[0m\u001b[0;34m\u001b[0m\u001b[0m\n\u001b[1;32m      7\u001b[0m         \u001b[0mhour8\u001b[0m\u001b[0;34m.\u001b[0m\u001b[0mappend\u001b[0m\u001b[0;34m(\u001b[0m\u001b[0mtime\u001b[0m\u001b[0;34m[\u001b[0m\u001b[0;34m'hour'\u001b[0m\u001b[0;34m]\u001b[0m\u001b[0;34m[\u001b[0m\u001b[0mi\u001b[0m\u001b[0;34m]\u001b[0m\u001b[0;34m)\u001b[0m\u001b[0;34m\u001b[0m\u001b[0;34m\u001b[0m\u001b[0m\n",
      "\u001b[0;31mNameError\u001b[0m: name 'time' is not defined"
     ]
    }
   ],
   "source": [
    "day8 = []\n",
    "hour8 = []\n",
    "num8 = []\n",
    "for i in range(0,192):\n",
    "    if time.loc[i]['day'] == 8 :\n",
    "        day8.append(time['rate'][i])\n",
    "        hour8.append(time['hour'][i])\n",
    "        num8.append(time['clk'][i])"
   ]
  },
  {
   "cell_type": "code",
   "execution_count": 32,
   "id": "c563abc9",
   "metadata": {},
   "outputs": [
    {
     "ename": "NameError",
     "evalue": "name 'time' is not defined",
     "output_type": "error",
     "traceback": [
      "\u001b[0;31m---------------------------------------------------------------------------\u001b[0m",
      "\u001b[0;31mNameError\u001b[0m                                 Traceback (most recent call last)",
      "\u001b[0;32m/var/folders/pz/285374fs0px_5jgty6z1tbqm0000gn/T/ipykernel_38342/2065334225.py\u001b[0m in \u001b[0;36m<module>\u001b[0;34m\u001b[0m\n\u001b[1;32m      3\u001b[0m \u001b[0mnum9\u001b[0m \u001b[0;34m=\u001b[0m \u001b[0;34m[\u001b[0m\u001b[0;34m]\u001b[0m\u001b[0;34m\u001b[0m\u001b[0;34m\u001b[0m\u001b[0m\n\u001b[1;32m      4\u001b[0m \u001b[0;32mfor\u001b[0m \u001b[0mi\u001b[0m \u001b[0;32min\u001b[0m \u001b[0mrange\u001b[0m\u001b[0;34m(\u001b[0m\u001b[0;36m0\u001b[0m\u001b[0;34m,\u001b[0m\u001b[0;36m192\u001b[0m\u001b[0;34m)\u001b[0m\u001b[0;34m:\u001b[0m\u001b[0;34m\u001b[0m\u001b[0;34m\u001b[0m\u001b[0m\n\u001b[0;32m----> 5\u001b[0;31m     \u001b[0;32mif\u001b[0m \u001b[0mtime\u001b[0m\u001b[0;34m.\u001b[0m\u001b[0mloc\u001b[0m\u001b[0;34m[\u001b[0m\u001b[0mi\u001b[0m\u001b[0;34m]\u001b[0m\u001b[0;34m[\u001b[0m\u001b[0;34m'day'\u001b[0m\u001b[0;34m]\u001b[0m \u001b[0;34m==\u001b[0m \u001b[0;36m9\u001b[0m \u001b[0;34m:\u001b[0m\u001b[0;34m\u001b[0m\u001b[0;34m\u001b[0m\u001b[0m\n\u001b[0m\u001b[1;32m      6\u001b[0m         \u001b[0mday9\u001b[0m\u001b[0;34m.\u001b[0m\u001b[0mappend\u001b[0m\u001b[0;34m(\u001b[0m\u001b[0mtime\u001b[0m\u001b[0;34m[\u001b[0m\u001b[0;34m'rate'\u001b[0m\u001b[0;34m]\u001b[0m\u001b[0;34m[\u001b[0m\u001b[0mi\u001b[0m\u001b[0;34m]\u001b[0m\u001b[0;34m)\u001b[0m\u001b[0;34m\u001b[0m\u001b[0;34m\u001b[0m\u001b[0m\n\u001b[1;32m      7\u001b[0m         \u001b[0mhour9\u001b[0m\u001b[0;34m.\u001b[0m\u001b[0mappend\u001b[0m\u001b[0;34m(\u001b[0m\u001b[0mtime\u001b[0m\u001b[0;34m[\u001b[0m\u001b[0;34m'hour'\u001b[0m\u001b[0;34m]\u001b[0m\u001b[0;34m[\u001b[0m\u001b[0mi\u001b[0m\u001b[0;34m]\u001b[0m\u001b[0;34m)\u001b[0m\u001b[0;34m\u001b[0m\u001b[0;34m\u001b[0m\u001b[0m\n",
      "\u001b[0;31mNameError\u001b[0m: name 'time' is not defined"
     ]
    }
   ],
   "source": [
    "day9 = []\n",
    "hour9 = []\n",
    "num9 = []\n",
    "for i in range(0,192):\n",
    "    if time.loc[i]['day'] == 9 :\n",
    "        day9.append(time['rate'][i])\n",
    "        hour9.append(time['hour'][i])\n",
    "        num9.append(time['clk'][i])"
   ]
  },
  {
   "cell_type": "code",
   "execution_count": 33,
   "id": "fcafebf7",
   "metadata": {},
   "outputs": [
    {
     "ename": "NameError",
     "evalue": "name 'time' is not defined",
     "output_type": "error",
     "traceback": [
      "\u001b[0;31m---------------------------------------------------------------------------\u001b[0m",
      "\u001b[0;31mNameError\u001b[0m                                 Traceback (most recent call last)",
      "\u001b[0;32m/var/folders/pz/285374fs0px_5jgty6z1tbqm0000gn/T/ipykernel_38342/1886090083.py\u001b[0m in \u001b[0;36m<module>\u001b[0;34m\u001b[0m\n\u001b[1;32m      3\u001b[0m \u001b[0mnum10\u001b[0m \u001b[0;34m=\u001b[0m \u001b[0;34m[\u001b[0m\u001b[0;34m]\u001b[0m\u001b[0;34m\u001b[0m\u001b[0;34m\u001b[0m\u001b[0m\n\u001b[1;32m      4\u001b[0m \u001b[0;32mfor\u001b[0m \u001b[0mi\u001b[0m \u001b[0;32min\u001b[0m \u001b[0mrange\u001b[0m\u001b[0;34m(\u001b[0m\u001b[0;36m0\u001b[0m\u001b[0;34m,\u001b[0m\u001b[0;36m192\u001b[0m\u001b[0;34m)\u001b[0m\u001b[0;34m:\u001b[0m\u001b[0;34m\u001b[0m\u001b[0;34m\u001b[0m\u001b[0m\n\u001b[0;32m----> 5\u001b[0;31m     \u001b[0;32mif\u001b[0m \u001b[0mtime\u001b[0m\u001b[0;34m.\u001b[0m\u001b[0mloc\u001b[0m\u001b[0;34m[\u001b[0m\u001b[0mi\u001b[0m\u001b[0;34m]\u001b[0m\u001b[0;34m[\u001b[0m\u001b[0;34m'day'\u001b[0m\u001b[0;34m]\u001b[0m \u001b[0;34m==\u001b[0m \u001b[0;36m10\u001b[0m \u001b[0;34m:\u001b[0m\u001b[0;34m\u001b[0m\u001b[0;34m\u001b[0m\u001b[0m\n\u001b[0m\u001b[1;32m      6\u001b[0m         \u001b[0mday10\u001b[0m\u001b[0;34m.\u001b[0m\u001b[0mappend\u001b[0m\u001b[0;34m(\u001b[0m\u001b[0mtime\u001b[0m\u001b[0;34m[\u001b[0m\u001b[0;34m'rate'\u001b[0m\u001b[0;34m]\u001b[0m\u001b[0;34m[\u001b[0m\u001b[0mi\u001b[0m\u001b[0;34m]\u001b[0m\u001b[0;34m)\u001b[0m\u001b[0;34m\u001b[0m\u001b[0;34m\u001b[0m\u001b[0m\n\u001b[1;32m      7\u001b[0m         \u001b[0mhour10\u001b[0m\u001b[0;34m.\u001b[0m\u001b[0mappend\u001b[0m\u001b[0;34m(\u001b[0m\u001b[0mtime\u001b[0m\u001b[0;34m[\u001b[0m\u001b[0;34m'hour'\u001b[0m\u001b[0;34m]\u001b[0m\u001b[0;34m[\u001b[0m\u001b[0mi\u001b[0m\u001b[0;34m]\u001b[0m\u001b[0;34m)\u001b[0m\u001b[0;34m\u001b[0m\u001b[0;34m\u001b[0m\u001b[0m\n",
      "\u001b[0;31mNameError\u001b[0m: name 'time' is not defined"
     ]
    }
   ],
   "source": [
    "day10 = []\n",
    "hour10 = []\n",
    "num10 = []\n",
    "for i in range(0,192):\n",
    "    if time.loc[i]['day'] == 10 :\n",
    "        day10.append(time['rate'][i])\n",
    "        hour10.append(time['hour'][i])\n",
    "        num10.append(time['clk'][i])"
   ]
  },
  {
   "cell_type": "code",
   "execution_count": 34,
   "id": "862b56ba",
   "metadata": {},
   "outputs": [
    {
     "ename": "NameError",
     "evalue": "name 'time' is not defined",
     "output_type": "error",
     "traceback": [
      "\u001b[0;31m---------------------------------------------------------------------------\u001b[0m",
      "\u001b[0;31mNameError\u001b[0m                                 Traceback (most recent call last)",
      "\u001b[0;32m/var/folders/pz/285374fs0px_5jgty6z1tbqm0000gn/T/ipykernel_38342/3081679475.py\u001b[0m in \u001b[0;36m<module>\u001b[0;34m\u001b[0m\n\u001b[1;32m      3\u001b[0m \u001b[0mnum11\u001b[0m \u001b[0;34m=\u001b[0m \u001b[0;34m[\u001b[0m\u001b[0;34m]\u001b[0m\u001b[0;34m\u001b[0m\u001b[0;34m\u001b[0m\u001b[0m\n\u001b[1;32m      4\u001b[0m \u001b[0;32mfor\u001b[0m \u001b[0mi\u001b[0m \u001b[0;32min\u001b[0m \u001b[0mrange\u001b[0m\u001b[0;34m(\u001b[0m\u001b[0;36m0\u001b[0m\u001b[0;34m,\u001b[0m\u001b[0;36m192\u001b[0m\u001b[0;34m)\u001b[0m\u001b[0;34m:\u001b[0m\u001b[0;34m\u001b[0m\u001b[0;34m\u001b[0m\u001b[0m\n\u001b[0;32m----> 5\u001b[0;31m     \u001b[0;32mif\u001b[0m \u001b[0mtime\u001b[0m\u001b[0;34m.\u001b[0m\u001b[0mloc\u001b[0m\u001b[0;34m[\u001b[0m\u001b[0mi\u001b[0m\u001b[0;34m]\u001b[0m\u001b[0;34m[\u001b[0m\u001b[0;34m'day'\u001b[0m\u001b[0;34m]\u001b[0m \u001b[0;34m==\u001b[0m \u001b[0;36m11\u001b[0m \u001b[0;34m:\u001b[0m\u001b[0;34m\u001b[0m\u001b[0;34m\u001b[0m\u001b[0m\n\u001b[0m\u001b[1;32m      6\u001b[0m         \u001b[0mday11\u001b[0m\u001b[0;34m.\u001b[0m\u001b[0mappend\u001b[0m\u001b[0;34m(\u001b[0m\u001b[0mtime\u001b[0m\u001b[0;34m[\u001b[0m\u001b[0;34m'rate'\u001b[0m\u001b[0;34m]\u001b[0m\u001b[0;34m[\u001b[0m\u001b[0mi\u001b[0m\u001b[0;34m]\u001b[0m\u001b[0;34m)\u001b[0m\u001b[0;34m\u001b[0m\u001b[0;34m\u001b[0m\u001b[0m\n\u001b[1;32m      7\u001b[0m         \u001b[0mhour11\u001b[0m\u001b[0;34m.\u001b[0m\u001b[0mappend\u001b[0m\u001b[0;34m(\u001b[0m\u001b[0mtime\u001b[0m\u001b[0;34m[\u001b[0m\u001b[0;34m'hour'\u001b[0m\u001b[0;34m]\u001b[0m\u001b[0;34m[\u001b[0m\u001b[0mi\u001b[0m\u001b[0;34m]\u001b[0m\u001b[0;34m)\u001b[0m\u001b[0;34m\u001b[0m\u001b[0;34m\u001b[0m\u001b[0m\n",
      "\u001b[0;31mNameError\u001b[0m: name 'time' is not defined"
     ]
    }
   ],
   "source": [
    "day11 = []\n",
    "hour11 = []\n",
    "num11 = []\n",
    "for i in range(0,192):\n",
    "    if time.loc[i]['day'] == 11 :\n",
    "        day11.append(time['rate'][i])\n",
    "        hour11.append(time['hour'][i])\n",
    "        num11.append(time['clk'][i])"
   ]
  },
  {
   "cell_type": "code",
   "execution_count": 35,
   "id": "503e739d",
   "metadata": {},
   "outputs": [
    {
     "ename": "NameError",
     "evalue": "name 'time' is not defined",
     "output_type": "error",
     "traceback": [
      "\u001b[0;31m---------------------------------------------------------------------------\u001b[0m",
      "\u001b[0;31mNameError\u001b[0m                                 Traceback (most recent call last)",
      "\u001b[0;32m/var/folders/pz/285374fs0px_5jgty6z1tbqm0000gn/T/ipykernel_38342/1613035357.py\u001b[0m in \u001b[0;36m<module>\u001b[0;34m\u001b[0m\n\u001b[1;32m      3\u001b[0m \u001b[0mnum12\u001b[0m \u001b[0;34m=\u001b[0m \u001b[0;34m[\u001b[0m\u001b[0;34m]\u001b[0m\u001b[0;34m\u001b[0m\u001b[0;34m\u001b[0m\u001b[0m\n\u001b[1;32m      4\u001b[0m \u001b[0;32mfor\u001b[0m \u001b[0mi\u001b[0m \u001b[0;32min\u001b[0m \u001b[0mrange\u001b[0m\u001b[0;34m(\u001b[0m\u001b[0;36m0\u001b[0m\u001b[0;34m,\u001b[0m\u001b[0;36m192\u001b[0m\u001b[0;34m)\u001b[0m\u001b[0;34m:\u001b[0m\u001b[0;34m\u001b[0m\u001b[0;34m\u001b[0m\u001b[0m\n\u001b[0;32m----> 5\u001b[0;31m     \u001b[0;32mif\u001b[0m \u001b[0mtime\u001b[0m\u001b[0;34m.\u001b[0m\u001b[0mloc\u001b[0m\u001b[0;34m[\u001b[0m\u001b[0mi\u001b[0m\u001b[0;34m]\u001b[0m\u001b[0;34m[\u001b[0m\u001b[0;34m'day'\u001b[0m\u001b[0;34m]\u001b[0m \u001b[0;34m==\u001b[0m \u001b[0;36m12\u001b[0m \u001b[0;34m:\u001b[0m\u001b[0;34m\u001b[0m\u001b[0;34m\u001b[0m\u001b[0m\n\u001b[0m\u001b[1;32m      6\u001b[0m         \u001b[0mday12\u001b[0m\u001b[0;34m.\u001b[0m\u001b[0mappend\u001b[0m\u001b[0;34m(\u001b[0m\u001b[0mtime\u001b[0m\u001b[0;34m[\u001b[0m\u001b[0;34m'rate'\u001b[0m\u001b[0;34m]\u001b[0m\u001b[0;34m[\u001b[0m\u001b[0mi\u001b[0m\u001b[0;34m]\u001b[0m\u001b[0;34m)\u001b[0m\u001b[0;34m\u001b[0m\u001b[0;34m\u001b[0m\u001b[0m\n\u001b[1;32m      7\u001b[0m         \u001b[0mhour12\u001b[0m\u001b[0;34m.\u001b[0m\u001b[0mappend\u001b[0m\u001b[0;34m(\u001b[0m\u001b[0mtime\u001b[0m\u001b[0;34m[\u001b[0m\u001b[0;34m'hour'\u001b[0m\u001b[0;34m]\u001b[0m\u001b[0;34m[\u001b[0m\u001b[0mi\u001b[0m\u001b[0;34m]\u001b[0m\u001b[0;34m)\u001b[0m\u001b[0;34m\u001b[0m\u001b[0;34m\u001b[0m\u001b[0m\n",
      "\u001b[0;31mNameError\u001b[0m: name 'time' is not defined"
     ]
    }
   ],
   "source": [
    "day12 = []\n",
    "hour12 = []\n",
    "num12 = []\n",
    "for i in range(0,192):\n",
    "    if time.loc[i]['day'] == 12 :\n",
    "        day12.append(time['rate'][i])\n",
    "        hour12.append(time['hour'][i])\n",
    "        num12.append(time['clk'][i])"
   ]
  },
  {
   "cell_type": "code",
   "execution_count": 36,
   "id": "0407ed07",
   "metadata": {},
   "outputs": [
    {
     "ename": "NameError",
     "evalue": "name 'time' is not defined",
     "output_type": "error",
     "traceback": [
      "\u001b[0;31m---------------------------------------------------------------------------\u001b[0m",
      "\u001b[0;31mNameError\u001b[0m                                 Traceback (most recent call last)",
      "\u001b[0;32m/var/folders/pz/285374fs0px_5jgty6z1tbqm0000gn/T/ipykernel_38342/2591485188.py\u001b[0m in \u001b[0;36m<module>\u001b[0;34m\u001b[0m\n\u001b[1;32m      3\u001b[0m \u001b[0mnum13\u001b[0m \u001b[0;34m=\u001b[0m \u001b[0;34m[\u001b[0m\u001b[0;34m]\u001b[0m\u001b[0;34m\u001b[0m\u001b[0;34m\u001b[0m\u001b[0m\n\u001b[1;32m      4\u001b[0m \u001b[0;32mfor\u001b[0m \u001b[0mi\u001b[0m \u001b[0;32min\u001b[0m \u001b[0mrange\u001b[0m\u001b[0;34m(\u001b[0m\u001b[0;36m0\u001b[0m\u001b[0;34m,\u001b[0m\u001b[0;36m192\u001b[0m\u001b[0;34m)\u001b[0m\u001b[0;34m:\u001b[0m\u001b[0;34m\u001b[0m\u001b[0;34m\u001b[0m\u001b[0m\n\u001b[0;32m----> 5\u001b[0;31m     \u001b[0;32mif\u001b[0m \u001b[0mtime\u001b[0m\u001b[0;34m.\u001b[0m\u001b[0mloc\u001b[0m\u001b[0;34m[\u001b[0m\u001b[0mi\u001b[0m\u001b[0;34m]\u001b[0m\u001b[0;34m[\u001b[0m\u001b[0;34m'day'\u001b[0m\u001b[0;34m]\u001b[0m \u001b[0;34m==\u001b[0m \u001b[0;36m13\u001b[0m \u001b[0;34m:\u001b[0m\u001b[0;34m\u001b[0m\u001b[0;34m\u001b[0m\u001b[0m\n\u001b[0m\u001b[1;32m      6\u001b[0m         \u001b[0mday13\u001b[0m\u001b[0;34m.\u001b[0m\u001b[0mappend\u001b[0m\u001b[0;34m(\u001b[0m\u001b[0mtime\u001b[0m\u001b[0;34m[\u001b[0m\u001b[0;34m'rate'\u001b[0m\u001b[0;34m]\u001b[0m\u001b[0;34m[\u001b[0m\u001b[0mi\u001b[0m\u001b[0;34m]\u001b[0m\u001b[0;34m)\u001b[0m\u001b[0;34m\u001b[0m\u001b[0;34m\u001b[0m\u001b[0m\n\u001b[1;32m      7\u001b[0m         \u001b[0mhour13\u001b[0m\u001b[0;34m.\u001b[0m\u001b[0mappend\u001b[0m\u001b[0;34m(\u001b[0m\u001b[0mtime\u001b[0m\u001b[0;34m[\u001b[0m\u001b[0;34m'hour'\u001b[0m\u001b[0;34m]\u001b[0m\u001b[0;34m[\u001b[0m\u001b[0mi\u001b[0m\u001b[0;34m]\u001b[0m\u001b[0;34m)\u001b[0m\u001b[0;34m\u001b[0m\u001b[0;34m\u001b[0m\u001b[0m\n",
      "\u001b[0;31mNameError\u001b[0m: name 'time' is not defined"
     ]
    }
   ],
   "source": [
    "day13 = []\n",
    "hour13 = []\n",
    "num13 = []\n",
    "for i in range(0,192):\n",
    "    if time.loc[i]['day'] == 13 :\n",
    "        day13.append(time['rate'][i])\n",
    "        hour13.append(time['hour'][i])\n",
    "        num13.append(time['clk'][i])"
   ]
  },
  {
   "cell_type": "code",
   "execution_count": 37,
   "id": "144d512a",
   "metadata": {},
   "outputs": [
    {
     "data": {
      "image/png": "[encoded data removed]",
      "text/plain": [
       "<Figure size 432x288 with 1 Axes>"
      ]
     },
     "metadata": {
      "needs_background": "light"
     },
     "output_type": "display_data"
    }
   ],
   "source": [
    "plt.bar(hour5,day5)\n",
    "for i in range(0,len(num5)):\n",
    "    plt.text(hour5[i],day5[i],num5[i])\n",
    "    \n",
    "plt.xlabel(\"Hour\")\n",
    "plt.ylabel(\"Rate\")\n",
    "plt.title(\"2017-05-05\")\n",
    "plt.show()"
   ]
  },
  {
   "cell_type": "code",
   "execution_count": 38,
   "id": "b01d5a46",
   "metadata": {},
   "outputs": [
    {
     "data": {
      "image/png": "[encoded data removed]",
      "text/plain": [
       "<Figure size 432x288 with 1 Axes>"
      ]
     },
     "metadata": {
      "needs_background": "light"
     },
     "output_type": "display_data"
    }
   ],
   "source": [
    "plt.bar(hour6,day6)\n",
    "for i in range(0,len(num6)):\n",
    "    plt.text(hour6[i],day6[i],num6[i],ha='center')\n",
    "    \n",
    "plt.xlabel(\"Hour\")\n",
    "plt.ylabel(\"Rate\")\n",
    "plt.title(\"2017-05-06\")\n",
    "plt.show()"
   ]
  },
  {
   "cell_type": "code",
   "execution_count": 39,
   "id": "6b5b8186",
   "metadata": {},
   "outputs": [
    {
     "data": {
      "image/png": "[encoded data removed]",
      "text/plain": [
       "<Figure size 432x288 with 1 Axes>"
      ]
     },
     "metadata": {
      "needs_background": "light"
     },
     "output_type": "display_data"
    }
   ],
   "source": [
    "plt.bar(hour7,day7)\n",
    "for i in range(0,len(num7)):\n",
    "    plt.text(hour7[i],day7[i],num7[i],ha='center')\n",
    "    \n",
    "plt.xlabel(\"Hour\")\n",
    "plt.ylabel(\"Rate\")\n",
    "plt.title(\"2017-05-07\")\n",
    "plt.show()"
   ]
  },
  {
   "cell_type": "code",
   "execution_count": 40,
   "id": "2da40708",
   "metadata": {},
   "outputs": [
    {
     "data": {
      "image/png": "[encoded data removed]",
      "text/plain": [
       "<Figure size 432x288 with 1 Axes>"
      ]
     },
     "metadata": {
      "needs_background": "light"
     },
     "output_type": "display_data"
    }
   ],
   "source": [
    "plt.bar(hour8,day8)\n",
    "for i in range(0,len(num8)):\n",
    "    plt.text(hour8[i],day8[i],num8[i],ha='center')\n",
    "    \n",
    "plt.xlabel(\"Hour\")\n",
    "plt.ylabel(\"Rate\")\n",
    "plt.title(\"2017-05-08\")\n",
    "plt.show()"
   ]
  },
  {
   "cell_type": "code",
   "execution_count": 41,
   "id": "931334da",
   "metadata": {},
   "outputs": [
    {
     "data": {
      "image/png": "[encoded data removed]",
      "text/plain": [
       "<Figure size 432x288 with 1 Axes>"
      ]
     },
     "metadata": {
      "needs_background": "light"
     },
     "output_type": "display_data"
    }
   ],
   "source": [
    "plt.bar(hour9,day9)\n",
    "for i in range(0,len(num9)):\n",
    "    plt.text(hour9[i],day9[i],num9[i],ha='center')\n",
    "    \n",
    "plt.xlabel(\"Hour\")\n",
    "plt.ylabel(\"Rate\")\n",
    "plt.title(\"2017-05-09\")\n",
    "plt.show()"
   ]
  },
  {
   "cell_type": "code",
   "execution_count": 42,
   "id": "d3c08c65",
   "metadata": {},
   "outputs": [
    {
     "data": {
      "image/png": "[encoded data removed]",
      "text/plain": [
       "<Figure size 432x288 with 1 Axes>"
      ]
     },
     "metadata": {
      "needs_background": "light"
     },
     "output_type": "display_data"
    }
   ],
   "source": [
    "plt.bar(hour10,day10)\n",
    "for i in range(0,len(num10)):\n",
    "    plt.text(hour10[i],day10[i],num10[i],ha='center')\n",
    "    \n",
    "plt.xlabel(\"Hour\")\n",
    "plt.ylabel(\"Rate\")\n",
    "plt.title(\"2017-05-10\")\n",
    "plt.show()"
   ]
  },
  {
   "cell_type": "code",
   "execution_count": 43,
   "id": "02c12dd3",
   "metadata": {},
   "outputs": [
    {
     "data": {
      "image/png": "[encoded data removed]",
      "text/plain": [
       "<Figure size 432x288 with 1 Axes>"
      ]
     },
     "metadata": {
      "needs_background": "light"
     },
     "output_type": "display_data"
    }
   ],
   "source": [
    "plt.bar(hour11,day11)\n",
    "for i in range(0,len(num11)):\n",
    "    plt.text(hour11[i],day11[i],num11[i],ha='center')\n",
    "    \n",
    "plt.xlabel(\"Hour\")\n",
    "plt.ylabel(\"Rate\")\n",
    "plt.title(\"2017-05-11\")\n",
    "plt.show()"
   ]
  },
  {
   "cell_type": "code",
   "execution_count": 44,
   "id": "a9a15222",
   "metadata": {},
   "outputs": [
    {
     "data": {
      "image/png": "[encoded data removed]",
      "text/plain": [
       "<Figure size 432x288 with 1 Axes>"
      ]
     },
     "metadata": {
      "needs_background": "light"
     },
     "output_type": "display_data"
    }
   ],
   "source": [
    "plt.bar(hour12,day12)\n",
    "for i in range(0,len(num12)):\n",
    "    plt.text(hour12[i],day12[i],num12[i],ha='center')\n",
    "    \n",
    "plt.xlabel(\"Hour\")\n",
    "plt.ylabel(\"Rate\")\n",
    "plt.title(\"2017-05-12\")\n",
    "plt.show()"
   ]
  },
  {
   "cell_type": "code",
   "execution_count": 544,
   "id": "946347ae",
   "metadata": {},
   "outputs": [
    {
     "data": {
      "image/png": "[encoded data removed]",
      "text/plain": [
       "<Figure size 432x288 with 1 Axes>"
      ]
     },
     "metadata": {
      "needs_background": "light"
     },
     "output_type": "display_data"
    }
   ],
   "source": [
    "plt.bar(hour13,day13)\n",
    "for i in range(0,len(num13):\n",
    "    plt.text(hour13[i],day13[i],num13[i],ha='center')\n",
    "    \n",
    "plt.xlabel(\"Hour\")\n",
    "plt.ylabel(\"Rate\")\n",
    "plt.title(\"2017-05-13\")\n",
    "plt.show()"
   ]
  },
  {
   "cell_type": "code",
   "execution_count": 545,
   "id": "16ba0449",
   "metadata": {},
   "outputs": [],
   "source": [
    "hour = merge"
   ]
  },
  {
   "cell_type": "code",
   "execution_count": 549,
   "id": "c5c0f056",
   "metadata": {},
   "outputs": [],
   "source": [
    "hour['hour'] = hour['time_stamp'].dt.hour"
   ]
  },
  {
   "cell_type": "code",
   "execution_count": 550,
   "id": "5ce45aae",
   "metadata": {},
   "outputs": [],
   "source": [
    "hour = hour.groupby('hour').sum()"
   ]
  },
  {
   "cell_type": "code",
   "execution_count": 552,
   "id": "e9af8061",
   "metadata": {},
   "outputs": [],
   "source": [
    "hour = hour.reset_index()"
   ]
  },
  {
   "cell_type": "code",
   "execution_count": 555,
   "id": "3dcbda40",
   "metadata": {},
   "outputs": [],
   "source": [
    "hour['rate'] = (hour['clk'] / ((hour['clk']) + (hour['nonclk'])))"
   ]
  },
  {
   "cell_type": "code",
   "execution_count": 557,
   "id": "3c415ed8",
   "metadata": {},
   "outputs": [
    {
     "data": {
      "image/png": "[encoded data removed]",
      "text/plain": [
       "<Figure size 432x288 with 1 Axes>"
      ]
     },
     "metadata": {
      "needs_background": "light"
     },
     "output_type": "display_data"
    }
   ],
   "source": [
    "plt.bar(hour['hour'],hour['rate'])\n",
    "for i in range(0,24):\n",
    "    plt.text(hour['hour'][i],hour['rate'][i],hour['clk'][i],ha='center')"
   ]
  },
  {
   "cell_type": "code",
   "execution_count": null,
   "id": "de735885",
   "metadata": {},
   "outputs": [],
   "source": []
  }
 ],
 "metadata": {
  "kernelspec": {
   "display_name": "Python 3 (ipykernel)",
   "language": "python",
   "name": "python3"
  },
  "language_info": {
   "codemirror_mode": {
    "name": "ipython",
    "version": 3
   },
   "file_extension": ".py",
   "mimetype": "text/x-python",
   "name": "python",
   "nbconvert_exporter": "python",
   "pygments_lexer": "ipython3",
   "version": "3.9.7"
  }
 },
 "nbformat": 4,
 "nbformat_minor": 5
}
