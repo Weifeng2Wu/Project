{
 "cells": [
  {
   "cell_type": "code",
   "execution_count": 1,
   "id": "69586990",
   "metadata": {},
   "outputs": [],
   "source": [
    "import pandas as pd\n",
    "import numpy as np\n",
    "import matplotlib.pyplot as plt"
   ]
  },
  {
   "cell_type": "markdown",
   "id": "d31f9fe5",
   "metadata": {},
   "source": [
    "## cleaning data"
   ]
  },
  {
   "cell_type": "code",
   "execution_count": 4,
   "id": "8663c613",
   "metadata": {},
   "outputs": [],
   "source": [
    "azure_ads = pd.read_csv(\"/Users/wu/Desktop/Intern/data analysis/azure_ads.csv\")"
   ]
  },
  {
   "cell_type": "code",
   "execution_count": 5,
   "id": "706ef724",
   "metadata": {},
   "outputs": [
    {
     "name": "stdout",
     "output_type": "stream",
     "text": [
      "         Unnamed: 0     user  time_stamp  adgroup_id          pid  nonclk  clk\n",
      "0                 0   581738  1494137644           1  430548_1007       1    0\n",
      "1                 1   449818  1494638778           3  430548_1007       1    0\n",
      "2                 2   914836  1494650879           4  430548_1007       1    0\n",
      "3                 3   914836  1494651029           5  430548_1007       1    0\n",
      "4                 4   399907  1494302958           8  430548_1007       1    0\n",
      "...             ...      ...         ...         ...          ...     ...  ...\n",
      "1048570     1048570   909675  1494666964      183390  430548_1007       1    0\n",
      "1048571     1048571   708716  1494582327      183390  430548_1007       1    0\n",
      "1048572     1048572   576466  1494313024      183390  430548_1007       1    0\n",
      "1048573     1048573  1037392  1494680974      183390  430548_1007       1    0\n",
      "1048574     1048574   695789  1494572481      183390  430548_1007       1    0\n",
      "\n",
      "[1048575 rows x 7 columns]\n"
     ]
    }
   ],
   "source": [
    "print(azure_ads)"
   ]
  },
  {
   "cell_type": "code",
   "execution_count": 6,
   "id": "19d4872d",
   "metadata": {},
   "outputs": [],
   "source": [
    "data = azure_ads.sample(n=1000000)"
   ]
  },
  {
   "cell_type": "code",
   "execution_count": 7,
   "id": "9ba75cda",
   "metadata": {},
   "outputs": [
    {
     "name": "stdout",
     "output_type": "stream",
     "text": [
      "        Unnamed: 0     user  time_stamp  adgroup_id          pid  nonclk  clk\n",
      "146995      146995   874596  1494340376       37432  430548_1007       1    0\n",
      "532794      532794   364252  1494293812      109054  430539_1007       1    0\n",
      "403546      403546     7852  1494392909       89588  430539_1007       1    0\n",
      "333922      333922   738085  1494040336       74885  430539_1007       1    0\n",
      "642823      642823   287917  1494682289      123876  430539_1007       1    0\n",
      "...            ...      ...         ...         ...          ...     ...  ...\n",
      "553232      553232   803965  1494286927      112010  430539_1007       0    1\n",
      "548611      548611   224198  1494203437      111402  430548_1007       0    1\n",
      "64433        64433   449086  1494346403       17810  430548_1007       1    0\n",
      "16835        16835   117635  1494023877        4887  430548_1007       1    0\n",
      "460048      460048  1091993  1494477218       99054  430539_1007       1    0\n",
      "\n",
      "[1000000 rows x 7 columns]\n"
     ]
    }
   ],
   "source": [
    "print(data)"
   ]
  },
  {
   "cell_type": "code",
   "execution_count": 8,
   "id": "6f7a3286",
   "metadata": {},
   "outputs": [
    {
     "data": {
      "text/html": [
       "<div>\n",
       "<style scoped>\n",
       "    .dataframe tbody tr th:only-of-type {\n",
       "        vertical-align: middle;\n",
       "    }\n",
       "\n",
       "    .dataframe tbody tr th {\n",
       "        vertical-align: top;\n",
       "    }\n",
       "\n",
       "    .dataframe thead th {\n",
       "        text-align: right;\n",
       "    }\n",
       "</style>\n",
       "<table border=\"1\" class=\"dataframe\">\n",
       "  <thead>\n",
       "    <tr style=\"text-align: right;\">\n",
       "      <th></th>\n",
       "      <th>Unnamed: 0</th>\n",
       "      <th>user</th>\n",
       "      <th>time_stamp</th>\n",
       "      <th>adgroup_id</th>\n",
       "      <th>pid</th>\n",
       "      <th>nonclk</th>\n",
       "      <th>clk</th>\n",
       "    </tr>\n",
       "  </thead>\n",
       "  <tbody>\n",
       "    <tr>\n",
       "      <th>146995</th>\n",
       "      <td>146995</td>\n",
       "      <td>874596</td>\n",
       "      <td>1494340376</td>\n",
       "      <td>37432</td>\n",
       "      <td>430548_1007</td>\n",
       "      <td>1</td>\n",
       "      <td>0</td>\n",
       "    </tr>\n",
       "    <tr>\n",
       "      <th>532794</th>\n",
       "      <td>532794</td>\n",
       "      <td>364252</td>\n",
       "      <td>1494293812</td>\n",
       "      <td>109054</td>\n",
       "      <td>430539_1007</td>\n",
       "      <td>1</td>\n",
       "      <td>0</td>\n",
       "    </tr>\n",
       "    <tr>\n",
       "      <th>403546</th>\n",
       "      <td>403546</td>\n",
       "      <td>7852</td>\n",
       "      <td>1494392909</td>\n",
       "      <td>89588</td>\n",
       "      <td>430539_1007</td>\n",
       "      <td>1</td>\n",
       "      <td>0</td>\n",
       "    </tr>\n",
       "    <tr>\n",
       "      <th>333922</th>\n",
       "      <td>333922</td>\n",
       "      <td>738085</td>\n",
       "      <td>1494040336</td>\n",
       "      <td>74885</td>\n",
       "      <td>430539_1007</td>\n",
       "      <td>1</td>\n",
       "      <td>0</td>\n",
       "    </tr>\n",
       "    <tr>\n",
       "      <th>642823</th>\n",
       "      <td>642823</td>\n",
       "      <td>287917</td>\n",
       "      <td>1494682289</td>\n",
       "      <td>123876</td>\n",
       "      <td>430539_1007</td>\n",
       "      <td>1</td>\n",
       "      <td>0</td>\n",
       "    </tr>\n",
       "    <tr>\n",
       "      <th>...</th>\n",
       "      <td>...</td>\n",
       "      <td>...</td>\n",
       "      <td>...</td>\n",
       "      <td>...</td>\n",
       "      <td>...</td>\n",
       "      <td>...</td>\n",
       "      <td>...</td>\n",
       "    </tr>\n",
       "    <tr>\n",
       "      <th>553232</th>\n",
       "      <td>553232</td>\n",
       "      <td>803965</td>\n",
       "      <td>1494286927</td>\n",
       "      <td>112010</td>\n",
       "      <td>430539_1007</td>\n",
       "      <td>0</td>\n",
       "      <td>1</td>\n",
       "    </tr>\n",
       "    <tr>\n",
       "      <th>548611</th>\n",
       "      <td>548611</td>\n",
       "      <td>224198</td>\n",
       "      <td>1494203437</td>\n",
       "      <td>111402</td>\n",
       "      <td>430548_1007</td>\n",
       "      <td>0</td>\n",
       "      <td>1</td>\n",
       "    </tr>\n",
       "    <tr>\n",
       "      <th>64433</th>\n",
       "      <td>64433</td>\n",
       "      <td>449086</td>\n",
       "      <td>1494346403</td>\n",
       "      <td>17810</td>\n",
       "      <td>430548_1007</td>\n",
       "      <td>1</td>\n",
       "      <td>0</td>\n",
       "    </tr>\n",
       "    <tr>\n",
       "      <th>16835</th>\n",
       "      <td>16835</td>\n",
       "      <td>117635</td>\n",
       "      <td>1494023877</td>\n",
       "      <td>4887</td>\n",
       "      <td>430548_1007</td>\n",
       "      <td>1</td>\n",
       "      <td>0</td>\n",
       "    </tr>\n",
       "    <tr>\n",
       "      <th>460048</th>\n",
       "      <td>460048</td>\n",
       "      <td>1091993</td>\n",
       "      <td>1494477218</td>\n",
       "      <td>99054</td>\n",
       "      <td>430539_1007</td>\n",
       "      <td>1</td>\n",
       "      <td>0</td>\n",
       "    </tr>\n",
       "  </tbody>\n",
       "</table>\n",
       "<p>1000000 rows × 7 columns</p>\n",
       "</div>"
      ],
      "text/plain": [
       "        Unnamed: 0     user  time_stamp  adgroup_id          pid  nonclk  clk\n",
       "146995      146995   874596  1494340376       37432  430548_1007       1    0\n",
       "532794      532794   364252  1494293812      109054  430539_1007       1    0\n",
       "403546      403546     7852  1494392909       89588  430539_1007       1    0\n",
       "333922      333922   738085  1494040336       74885  430539_1007       1    0\n",
       "642823      642823   287917  1494682289      123876  430539_1007       1    0\n",
       "...            ...      ...         ...         ...          ...     ...  ...\n",
       "553232      553232   803965  1494286927      112010  430539_1007       0    1\n",
       "548611      548611   224198  1494203437      111402  430548_1007       0    1\n",
       "64433        64433   449086  1494346403       17810  430548_1007       1    0\n",
       "16835        16835   117635  1494023877        4887  430548_1007       1    0\n",
       "460048      460048  1091993  1494477218       99054  430539_1007       1    0\n",
       "\n",
       "[1000000 rows x 7 columns]"
      ]
     },
     "execution_count": 8,
     "metadata": {},
     "output_type": "execute_result"
    }
   ],
   "source": [
    "data.dropna(axis=0)"
   ]
  },
  {
   "cell_type": "code",
   "execution_count": 9,
   "id": "a5d61f70",
   "metadata": {},
   "outputs": [
    {
     "data": {
      "text/html": [
       "<div>\n",
       "<style scoped>\n",
       "    .dataframe tbody tr th:only-of-type {\n",
       "        vertical-align: middle;\n",
       "    }\n",
       "\n",
       "    .dataframe tbody tr th {\n",
       "        vertical-align: top;\n",
       "    }\n",
       "\n",
       "    .dataframe thead th {\n",
       "        text-align: right;\n",
       "    }\n",
       "</style>\n",
       "<table border=\"1\" class=\"dataframe\">\n",
       "  <thead>\n",
       "    <tr style=\"text-align: right;\">\n",
       "      <th></th>\n",
       "      <th>Unnamed: 0</th>\n",
       "      <th>user</th>\n",
       "      <th>time_stamp</th>\n",
       "      <th>adgroup_id</th>\n",
       "      <th>pid</th>\n",
       "      <th>nonclk</th>\n",
       "      <th>clk</th>\n",
       "    </tr>\n",
       "  </thead>\n",
       "  <tbody>\n",
       "    <tr>\n",
       "      <th>146995</th>\n",
       "      <td>146995</td>\n",
       "      <td>874596</td>\n",
       "      <td>1494340376</td>\n",
       "      <td>37432</td>\n",
       "      <td>430548_1007</td>\n",
       "      <td>1</td>\n",
       "      <td>0</td>\n",
       "    </tr>\n",
       "    <tr>\n",
       "      <th>532794</th>\n",
       "      <td>532794</td>\n",
       "      <td>364252</td>\n",
       "      <td>1494293812</td>\n",
       "      <td>109054</td>\n",
       "      <td>430539_1007</td>\n",
       "      <td>1</td>\n",
       "      <td>0</td>\n",
       "    </tr>\n",
       "    <tr>\n",
       "      <th>403546</th>\n",
       "      <td>403546</td>\n",
       "      <td>7852</td>\n",
       "      <td>1494392909</td>\n",
       "      <td>89588</td>\n",
       "      <td>430539_1007</td>\n",
       "      <td>1</td>\n",
       "      <td>0</td>\n",
       "    </tr>\n",
       "    <tr>\n",
       "      <th>333922</th>\n",
       "      <td>333922</td>\n",
       "      <td>738085</td>\n",
       "      <td>1494040336</td>\n",
       "      <td>74885</td>\n",
       "      <td>430539_1007</td>\n",
       "      <td>1</td>\n",
       "      <td>0</td>\n",
       "    </tr>\n",
       "    <tr>\n",
       "      <th>642823</th>\n",
       "      <td>642823</td>\n",
       "      <td>287917</td>\n",
       "      <td>1494682289</td>\n",
       "      <td>123876</td>\n",
       "      <td>430539_1007</td>\n",
       "      <td>1</td>\n",
       "      <td>0</td>\n",
       "    </tr>\n",
       "    <tr>\n",
       "      <th>...</th>\n",
       "      <td>...</td>\n",
       "      <td>...</td>\n",
       "      <td>...</td>\n",
       "      <td>...</td>\n",
       "      <td>...</td>\n",
       "      <td>...</td>\n",
       "      <td>...</td>\n",
       "    </tr>\n",
       "    <tr>\n",
       "      <th>553232</th>\n",
       "      <td>553232</td>\n",
       "      <td>803965</td>\n",
       "      <td>1494286927</td>\n",
       "      <td>112010</td>\n",
       "      <td>430539_1007</td>\n",
       "      <td>0</td>\n",
       "      <td>1</td>\n",
       "    </tr>\n",
       "    <tr>\n",
       "      <th>548611</th>\n",
       "      <td>548611</td>\n",
       "      <td>224198</td>\n",
       "      <td>1494203437</td>\n",
       "      <td>111402</td>\n",
       "      <td>430548_1007</td>\n",
       "      <td>0</td>\n",
       "      <td>1</td>\n",
       "    </tr>\n",
       "    <tr>\n",
       "      <th>64433</th>\n",
       "      <td>64433</td>\n",
       "      <td>449086</td>\n",
       "      <td>1494346403</td>\n",
       "      <td>17810</td>\n",
       "      <td>430548_1007</td>\n",
       "      <td>1</td>\n",
       "      <td>0</td>\n",
       "    </tr>\n",
       "    <tr>\n",
       "      <th>16835</th>\n",
       "      <td>16835</td>\n",
       "      <td>117635</td>\n",
       "      <td>1494023877</td>\n",
       "      <td>4887</td>\n",
       "      <td>430548_1007</td>\n",
       "      <td>1</td>\n",
       "      <td>0</td>\n",
       "    </tr>\n",
       "    <tr>\n",
       "      <th>460048</th>\n",
       "      <td>460048</td>\n",
       "      <td>1091993</td>\n",
       "      <td>1494477218</td>\n",
       "      <td>99054</td>\n",
       "      <td>430539_1007</td>\n",
       "      <td>1</td>\n",
       "      <td>0</td>\n",
       "    </tr>\n",
       "  </tbody>\n",
       "</table>\n",
       "<p>1000000 rows × 7 columns</p>\n",
       "</div>"
      ],
      "text/plain": [
       "        Unnamed: 0     user  time_stamp  adgroup_id          pid  nonclk  clk\n",
       "146995      146995   874596  1494340376       37432  430548_1007       1    0\n",
       "532794      532794   364252  1494293812      109054  430539_1007       1    0\n",
       "403546      403546     7852  1494392909       89588  430539_1007       1    0\n",
       "333922      333922   738085  1494040336       74885  430539_1007       1    0\n",
       "642823      642823   287917  1494682289      123876  430539_1007       1    0\n",
       "...            ...      ...         ...         ...          ...     ...  ...\n",
       "553232      553232   803965  1494286927      112010  430539_1007       0    1\n",
       "548611      548611   224198  1494203437      111402  430548_1007       0    1\n",
       "64433        64433   449086  1494346403       17810  430548_1007       1    0\n",
       "16835        16835   117635  1494023877        4887  430548_1007       1    0\n",
       "460048      460048  1091993  1494477218       99054  430539_1007       1    0\n",
       "\n",
       "[1000000 rows x 7 columns]"
      ]
     },
     "execution_count": 9,
     "metadata": {},
     "output_type": "execute_result"
    }
   ],
   "source": [
    "data.drop_duplicates()"
   ]
  },
  {
   "cell_type": "markdown",
   "id": "c2d927ba",
   "metadata": {},
   "source": [
    "## Analysis By Pid"
   ]
  },
  {
   "cell_type": "code",
   "execution_count": 10,
   "id": "7276a5a1",
   "metadata": {},
   "outputs": [],
   "source": [
    "group = data.groupby('pid').sum()"
   ]
  },
  {
   "cell_type": "code",
   "execution_count": 11,
   "id": "b960564c",
   "metadata": {},
   "outputs": [
    {
     "name": "stdout",
     "output_type": "stream",
     "text": [
      "               Unnamed: 0          user       time_stamp   adgroup_id  nonclk  \\\n",
      "pid                                                                             \n",
      "430539_1007  195285854105  219184841561  548025752893917  37885007822  348280   \n",
      "430548_1007  329064514502  359113033029  946328534431335  64105601343  602209   \n",
      "\n",
      "               clk  \n",
      "pid                 \n",
      "430539_1007  18451  \n",
      "430548_1007  31060  \n"
     ]
    }
   ],
   "source": [
    "print(group)"
   ]
  },
  {
   "cell_type": "code",
   "execution_count": 12,
   "id": "86d57402",
   "metadata": {},
   "outputs": [],
   "source": [
    "group['rate'] = (group['clk']) / ((group['clk']) + (group['nonclk']))"
   ]
  },
  {
   "cell_type": "code",
   "execution_count": 13,
   "id": "4a8ba459",
   "metadata": {},
   "outputs": [],
   "source": [
    "group = group.reset_index()"
   ]
  },
  {
   "cell_type": "code",
   "execution_count": 14,
   "id": "986a34b8",
   "metadata": {},
   "outputs": [
    {
     "data": {
      "text/html": [
       "<div>\n",
       "<style scoped>\n",
       "    .dataframe tbody tr th:only-of-type {\n",
       "        vertical-align: middle;\n",
       "    }\n",
       "\n",
       "    .dataframe tbody tr th {\n",
       "        vertical-align: top;\n",
       "    }\n",
       "\n",
       "    .dataframe thead th {\n",
       "        text-align: right;\n",
       "    }\n",
       "</style>\n",
       "<table border=\"1\" class=\"dataframe\">\n",
       "  <thead>\n",
       "    <tr style=\"text-align: right;\">\n",
       "      <th></th>\n",
       "      <th>pid</th>\n",
       "      <th>Unnamed: 0</th>\n",
       "      <th>user</th>\n",
       "      <th>time_stamp</th>\n",
       "      <th>adgroup_id</th>\n",
       "      <th>nonclk</th>\n",
       "      <th>clk</th>\n",
       "      <th>rate</th>\n",
       "    </tr>\n",
       "  </thead>\n",
       "  <tbody>\n",
       "    <tr>\n",
       "      <th>0</th>\n",
       "      <td>430539_1007</td>\n",
       "      <td>195285854105</td>\n",
       "      <td>219184841561</td>\n",
       "      <td>548025752893917</td>\n",
       "      <td>37885007822</td>\n",
       "      <td>348280</td>\n",
       "      <td>18451</td>\n",
       "      <td>0.050312</td>\n",
       "    </tr>\n",
       "    <tr>\n",
       "      <th>1</th>\n",
       "      <td>430548_1007</td>\n",
       "      <td>329064514502</td>\n",
       "      <td>359113033029</td>\n",
       "      <td>946328534431335</td>\n",
       "      <td>64105601343</td>\n",
       "      <td>602209</td>\n",
       "      <td>31060</td>\n",
       "      <td>0.049047</td>\n",
       "    </tr>\n",
       "  </tbody>\n",
       "</table>\n",
       "</div>"
      ],
      "text/plain": [
       "           pid    Unnamed: 0          user       time_stamp   adgroup_id  \\\n",
       "0  430539_1007  195285854105  219184841561  548025752893917  37885007822   \n",
       "1  430548_1007  329064514502  359113033029  946328534431335  64105601343   \n",
       "\n",
       "   nonclk    clk      rate  \n",
       "0  348280  18451  0.050312  \n",
       "1  602209  31060  0.049047  "
      ]
     },
     "execution_count": 14,
     "metadata": {},
     "output_type": "execute_result"
    }
   ],
   "source": [
    "group"
   ]
  },
  {
   "cell_type": "code",
   "execution_count": 15,
   "id": "3d8b61c1",
   "metadata": {},
   "outputs": [
    {
     "data": {
      "image/png": "[encoded data removed]",
      "text/plain": [
       "<Figure size 432x288 with 1 Axes>"
      ]
     },
     "metadata": {
      "needs_background": "light"
     },
     "output_type": "display_data"
    }
   ],
   "source": [
    "plt.bar(group['pid'],group['rate'])\n",
    "for a in range(0,2) :\n",
    "    plt.text(group['pid'][a],group['rate'][a],group['clk'][a])"
   ]
  },
  {
   "cell_type": "markdown",
   "id": "b662301c",
   "metadata": {},
   "source": [
    "Comparing this two pid, there is no significant difference."
   ]
  },
  {
   "cell_type": "markdown",
   "id": "3c495f26",
   "metadata": {},
   "source": [
    "## Analysis By Age & Gender"
   ]
  },
  {
   "cell_type": "code",
   "execution_count": 18,
   "id": "b649023d",
   "metadata": {},
   "outputs": [],
   "source": [
    "user_profile = pd.read_csv(\"/Users/wu/Desktop/Intern/data analysis/user_profile.csv\")"
   ]
  },
  {
   "cell_type": "code",
   "execution_count": 19,
   "id": "9d1057ea",
   "metadata": {
    "scrolled": true
   },
   "outputs": [
    {
     "name": "stdout",
     "output_type": "stream",
     "text": [
      "         Unnamed: 0  userid  gender  age_level  pvalue_level  occupation\n",
      "0                 0     234       2          5           NaN           0\n",
      "1                 1     523       2          2           1.0           1\n",
      "2                 2     612       1          2           2.0           0\n",
      "3                 3    1670       2          4           NaN           0\n",
      "4                 4    2545       1          4           NaN           0\n",
      "...             ...     ...     ...        ...           ...         ...\n",
      "1048570     1048570  272699       2          4           2.0           0\n",
      "1048571     1048571  273113       1          5           NaN           0\n",
      "1048572     1048572  273589       2          4           NaN           0\n",
      "1048573     1048573  273943       2          4           NaN           0\n",
      "1048574     1048574  274358       2          5           NaN           0\n",
      "\n",
      "[1048575 rows x 6 columns]\n"
     ]
    }
   ],
   "source": [
    "print(user_profile)"
   ]
  },
  {
   "cell_type": "code",
   "execution_count": 20,
   "id": "fab61b84",
   "metadata": {},
   "outputs": [],
   "source": [
    "user_profile.rename(columns={'userid':'user'},inplace=True)"
   ]
  },
  {
   "cell_type": "code",
   "execution_count": 21,
   "id": "213cb844",
   "metadata": {},
   "outputs": [],
   "source": [
    "merge = pd.merge(data,user_profile, on = [\"user\"], how = \"left\")"
   ]
  },
  {
   "cell_type": "code",
   "execution_count": 22,
   "id": "17412e25",
   "metadata": {},
   "outputs": [
    {
     "name": "stdout",
     "output_type": "stream",
     "text": [
      "        Unnamed: 0_x     user  time_stamp  adgroup_id          pid  nonclk  \\\n",
      "0             146995   874596  1494340376       37432  430548_1007       1   \n",
      "1             532794   364252  1494293812      109054  430539_1007       1   \n",
      "2             403546     7852  1494392909       89588  430539_1007       1   \n",
      "3             333922   738085  1494040336       74885  430539_1007       1   \n",
      "4             642823   287917  1494682289      123876  430539_1007       1   \n",
      "...              ...      ...         ...         ...          ...     ...   \n",
      "999995        553232   803965  1494286927      112010  430539_1007       0   \n",
      "999996        548611   224198  1494203437      111402  430548_1007       0   \n",
      "999997         64433   449086  1494346403       17810  430548_1007       1   \n",
      "999998         16835   117635  1494023877        4887  430548_1007       1   \n",
      "999999        460048  1091993  1494477218       99054  430539_1007       1   \n",
      "\n",
      "        clk  Unnamed: 0_y  gender  age_level  pvalue_level  occupation  \n",
      "0         0      200123.0     2.0        3.0           2.0         0.0  \n",
      "1         0           NaN     NaN        NaN           NaN         NaN  \n",
      "2         0      714000.0     2.0        2.0           NaN         0.0  \n",
      "3         0      556544.0     1.0        5.0           NaN         0.0  \n",
      "4         0      318148.0     2.0        5.0           3.0         0.0  \n",
      "...     ...           ...     ...        ...           ...         ...  \n",
      "999995    1      707590.0     2.0        4.0           NaN         0.0  \n",
      "999996    1      990316.0     2.0        5.0           NaN         0.0  \n",
      "999997    0           NaN     NaN        NaN           NaN         NaN  \n",
      "999998    0      323302.0     1.0        6.0           NaN         0.0  \n",
      "999999    0      700067.0     2.0        3.0           1.0         0.0  \n",
      "\n",
      "[1000000 rows x 12 columns]\n"
     ]
    }
   ],
   "source": [
    "print(merge)"
   ]
  },
  {
   "cell_type": "code",
   "execution_count": 23,
   "id": "a553054c",
   "metadata": {},
   "outputs": [],
   "source": [
    "merge = merge.dropna(axis=0)"
   ]
  },
  {
   "cell_type": "code",
   "execution_count": 24,
   "id": "2c340a7c",
   "metadata": {},
   "outputs": [
    {
     "data": {
      "text/html": [
       "<div>\n",
       "<style scoped>\n",
       "    .dataframe tbody tr th:only-of-type {\n",
       "        vertical-align: middle;\n",
       "    }\n",
       "\n",
       "    .dataframe tbody tr th {\n",
       "        vertical-align: top;\n",
       "    }\n",
       "\n",
       "    .dataframe thead th {\n",
       "        text-align: right;\n",
       "    }\n",
       "</style>\n",
       "<table border=\"1\" class=\"dataframe\">\n",
       "  <thead>\n",
       "    <tr style=\"text-align: right;\">\n",
       "      <th></th>\n",
       "      <th>Unnamed: 0_x</th>\n",
       "      <th>user</th>\n",
       "      <th>time_stamp</th>\n",
       "      <th>adgroup_id</th>\n",
       "      <th>pid</th>\n",
       "      <th>nonclk</th>\n",
       "      <th>clk</th>\n",
       "      <th>Unnamed: 0_y</th>\n",
       "      <th>gender</th>\n",
       "      <th>age_level</th>\n",
       "      <th>pvalue_level</th>\n",
       "      <th>occupation</th>\n",
       "    </tr>\n",
       "  </thead>\n",
       "  <tbody>\n",
       "    <tr>\n",
       "      <th>0</th>\n",
       "      <td>146995</td>\n",
       "      <td>874596</td>\n",
       "      <td>1494340376</td>\n",
       "      <td>37432</td>\n",
       "      <td>430548_1007</td>\n",
       "      <td>1</td>\n",
       "      <td>0</td>\n",
       "      <td>200123.0</td>\n",
       "      <td>2.0</td>\n",
       "      <td>3.0</td>\n",
       "      <td>2.0</td>\n",
       "      <td>0.0</td>\n",
       "    </tr>\n",
       "    <tr>\n",
       "      <th>4</th>\n",
       "      <td>642823</td>\n",
       "      <td>287917</td>\n",
       "      <td>1494682289</td>\n",
       "      <td>123876</td>\n",
       "      <td>430539_1007</td>\n",
       "      <td>1</td>\n",
       "      <td>0</td>\n",
       "      <td>318148.0</td>\n",
       "      <td>2.0</td>\n",
       "      <td>5.0</td>\n",
       "      <td>3.0</td>\n",
       "      <td>0.0</td>\n",
       "    </tr>\n",
       "    <tr>\n",
       "      <th>7</th>\n",
       "      <td>700073</td>\n",
       "      <td>262110</td>\n",
       "      <td>1494168900</td>\n",
       "      <td>130800</td>\n",
       "      <td>430548_1007</td>\n",
       "      <td>1</td>\n",
       "      <td>0</td>\n",
       "      <td>650701.0</td>\n",
       "      <td>2.0</td>\n",
       "      <td>4.0</td>\n",
       "      <td>2.0</td>\n",
       "      <td>0.0</td>\n",
       "    </tr>\n",
       "    <tr>\n",
       "      <th>9</th>\n",
       "      <td>862609</td>\n",
       "      <td>739530</td>\n",
       "      <td>1494215015</td>\n",
       "      <td>155570</td>\n",
       "      <td>430539_1007</td>\n",
       "      <td>1</td>\n",
       "      <td>0</td>\n",
       "      <td>380143.0</td>\n",
       "      <td>2.0</td>\n",
       "      <td>5.0</td>\n",
       "      <td>3.0</td>\n",
       "      <td>0.0</td>\n",
       "    </tr>\n",
       "    <tr>\n",
       "      <th>13</th>\n",
       "      <td>537156</td>\n",
       "      <td>201496</td>\n",
       "      <td>1494114934</td>\n",
       "      <td>109580</td>\n",
       "      <td>430548_1007</td>\n",
       "      <td>1</td>\n",
       "      <td>0</td>\n",
       "      <td>145656.0</td>\n",
       "      <td>1.0</td>\n",
       "      <td>4.0</td>\n",
       "      <td>2.0</td>\n",
       "      <td>0.0</td>\n",
       "    </tr>\n",
       "    <tr>\n",
       "      <th>...</th>\n",
       "      <td>...</td>\n",
       "      <td>...</td>\n",
       "      <td>...</td>\n",
       "      <td>...</td>\n",
       "      <td>...</td>\n",
       "      <td>...</td>\n",
       "      <td>...</td>\n",
       "      <td>...</td>\n",
       "      <td>...</td>\n",
       "      <td>...</td>\n",
       "      <td>...</td>\n",
       "      <td>...</td>\n",
       "    </tr>\n",
       "    <tr>\n",
       "      <th>999977</th>\n",
       "      <td>936668</td>\n",
       "      <td>993901</td>\n",
       "      <td>1494631069</td>\n",
       "      <td>166961</td>\n",
       "      <td>430539_1007</td>\n",
       "      <td>1</td>\n",
       "      <td>0</td>\n",
       "      <td>836096.0</td>\n",
       "      <td>2.0</td>\n",
       "      <td>3.0</td>\n",
       "      <td>1.0</td>\n",
       "      <td>0.0</td>\n",
       "    </tr>\n",
       "    <tr>\n",
       "      <th>999978</th>\n",
       "      <td>102528</td>\n",
       "      <td>332634</td>\n",
       "      <td>1494283016</td>\n",
       "      <td>27356</td>\n",
       "      <td>430539_1007</td>\n",
       "      <td>1</td>\n",
       "      <td>0</td>\n",
       "      <td>881750.0</td>\n",
       "      <td>1.0</td>\n",
       "      <td>5.0</td>\n",
       "      <td>2.0</td>\n",
       "      <td>0.0</td>\n",
       "    </tr>\n",
       "    <tr>\n",
       "      <th>999988</th>\n",
       "      <td>285811</td>\n",
       "      <td>480767</td>\n",
       "      <td>1494204513</td>\n",
       "      <td>64319</td>\n",
       "      <td>430539_1007</td>\n",
       "      <td>1</td>\n",
       "      <td>0</td>\n",
       "      <td>399217.0</td>\n",
       "      <td>2.0</td>\n",
       "      <td>2.0</td>\n",
       "      <td>2.0</td>\n",
       "      <td>0.0</td>\n",
       "    </tr>\n",
       "    <tr>\n",
       "      <th>999993</th>\n",
       "      <td>552893</td>\n",
       "      <td>236007</td>\n",
       "      <td>1494465834</td>\n",
       "      <td>111951</td>\n",
       "      <td>430548_1007</td>\n",
       "      <td>1</td>\n",
       "      <td>0</td>\n",
       "      <td>900840.0</td>\n",
       "      <td>2.0</td>\n",
       "      <td>2.0</td>\n",
       "      <td>1.0</td>\n",
       "      <td>0.0</td>\n",
       "    </tr>\n",
       "    <tr>\n",
       "      <th>999999</th>\n",
       "      <td>460048</td>\n",
       "      <td>1091993</td>\n",
       "      <td>1494477218</td>\n",
       "      <td>99054</td>\n",
       "      <td>430539_1007</td>\n",
       "      <td>1</td>\n",
       "      <td>0</td>\n",
       "      <td>700067.0</td>\n",
       "      <td>2.0</td>\n",
       "      <td>3.0</td>\n",
       "      <td>1.0</td>\n",
       "      <td>0.0</td>\n",
       "    </tr>\n",
       "  </tbody>\n",
       "</table>\n",
       "<p>433581 rows × 12 columns</p>\n",
       "</div>"
      ],
      "text/plain": [
       "        Unnamed: 0_x     user  time_stamp  adgroup_id          pid  nonclk  \\\n",
       "0             146995   874596  1494340376       37432  430548_1007       1   \n",
       "4             642823   287917  1494682289      123876  430539_1007       1   \n",
       "7             700073   262110  1494168900      130800  430548_1007       1   \n",
       "9             862609   739530  1494215015      155570  430539_1007       1   \n",
       "13            537156   201496  1494114934      109580  430548_1007       1   \n",
       "...              ...      ...         ...         ...          ...     ...   \n",
       "999977        936668   993901  1494631069      166961  430539_1007       1   \n",
       "999978        102528   332634  1494283016       27356  430539_1007       1   \n",
       "999988        285811   480767  1494204513       64319  430539_1007       1   \n",
       "999993        552893   236007  1494465834      111951  430548_1007       1   \n",
       "999999        460048  1091993  1494477218       99054  430539_1007       1   \n",
       "\n",
       "        clk  Unnamed: 0_y  gender  age_level  pvalue_level  occupation  \n",
       "0         0      200123.0     2.0        3.0           2.0         0.0  \n",
       "4         0      318148.0     2.0        5.0           3.0         0.0  \n",
       "7         0      650701.0     2.0        4.0           2.0         0.0  \n",
       "9         0      380143.0     2.0        5.0           3.0         0.0  \n",
       "13        0      145656.0     1.0        4.0           2.0         0.0  \n",
       "...     ...           ...     ...        ...           ...         ...  \n",
       "999977    0      836096.0     2.0        3.0           1.0         0.0  \n",
       "999978    0      881750.0     1.0        5.0           2.0         0.0  \n",
       "999988    0      399217.0     2.0        2.0           2.0         0.0  \n",
       "999993    0      900840.0     2.0        2.0           1.0         0.0  \n",
       "999999    0      700067.0     2.0        3.0           1.0         0.0  \n",
       "\n",
       "[433581 rows x 12 columns]"
      ]
     },
     "execution_count": 24,
     "metadata": {},
     "output_type": "execute_result"
    }
   ],
   "source": [
    "merge.drop_duplicates()"
   ]
  },
  {
   "cell_type": "code",
   "execution_count": 25,
   "id": "0c0f8d24",
   "metadata": {},
   "outputs": [],
   "source": [
    "age = merge.groupby(['age_level','gender']).sum()"
   ]
  },
  {
   "cell_type": "code",
   "execution_count": 26,
   "id": "e3dabedd",
   "metadata": {},
   "outputs": [],
   "source": [
    "age['rate'] = (age['clk'] / ((age['clk']) + (age['nonclk'])))"
   ]
  },
  {
   "cell_type": "code",
   "execution_count": 27,
   "id": "adeb750e",
   "metadata": {},
   "outputs": [],
   "source": [
    "age = age.reset_index()"
   ]
  },
  {
   "cell_type": "code",
   "execution_count": 28,
   "id": "8c357635",
   "metadata": {},
   "outputs": [],
   "source": [
    "gender1 = []\n",
    "for i in range(0,14):\n",
    "    if age.loc[i]['gender'] == 1 :\n",
    "        gender1.append(age['rate'][i])\n"
   ]
  },
  {
   "cell_type": "code",
   "execution_count": 29,
   "id": "ece3d16f",
   "metadata": {},
   "outputs": [],
   "source": [
    "gender2 =[]\n",
    "for i in range(0,14) :\n",
    "    if age.loc[i]['gender'] == 2 :\n",
    "        gender2.append(age['rate'][i])"
   ]
  },
  {
   "cell_type": "code",
   "execution_count": 30,
   "id": "c8b598c7",
   "metadata": {},
   "outputs": [],
   "source": [
    "num1 =[]\n",
    "for i in range(0,14):\n",
    "    if age.loc[i]['gender'] == 1 :\n",
    "        num1.append(age['clk'][i])"
   ]
  },
  {
   "cell_type": "code",
   "execution_count": 31,
   "id": "ee79a50b",
   "metadata": {},
   "outputs": [],
   "source": [
    "num2 = []\n",
    "for i in range(0,14):\n",
    "    if age.loc[i]['gender'] == 2 :\n",
    "        num2.append(age['clk'][i])\n"
   ]
  },
  {
   "cell_type": "code",
   "execution_count": 32,
   "id": "8ef29b55",
   "metadata": {},
   "outputs": [
    {
     "data": {
      "text/plain": [
       "[2, 429, 2191, 4302, 3659, 2764, 316]"
      ]
     },
     "execution_count": 32,
     "metadata": {},
     "output_type": "execute_result"
    }
   ],
   "source": [
    "num2"
   ]
  },
  {
   "cell_type": "code",
   "execution_count": 33,
   "id": "58915b88",
   "metadata": {},
   "outputs": [
    {
     "data": {
      "image/png": "[encoded data removed]",
      "text/plain": [
       "<Figure size 432x288 with 1 Axes>"
      ]
     },
     "metadata": {
      "needs_background": "light"
     },
     "output_type": "display_data"
    }
   ],
   "source": [
    "x = np.arange(7)\n",
    "bar_width = 0.3\n",
    "\n",
    "plt.bar(x, gender1, bar_width,label = 'male')\n",
    "plt.bar(x+bar_width, gender2, bar_width, align=\"center\",label='female')\n",
    "\n",
    "plt.legend()\n",
    "\n",
    "i = 0\n",
    "j = 0\n",
    "for a,b in zip(x,gender1):\n",
    "    plt.text(a,b,num1[i],ha=\"center\",va= \"bottom\")\n",
    "    i += 1\n",
    "\n",
    "for a,b in zip(x+0.3,gender2):\n",
    "    plt.text(a,b,num2[j],ha=\"center\",va= \"bottom\")\n",
    "    j += 1\n",
    "\n",
    "plt.xlabel(\"Age_level\")\n",
    "plt.ylabel(\"Rate\")\n",
    "plt.show()"
   ]
  },
  {
   "cell_type": "markdown",
   "id": "193025bb",
   "metadata": {},
   "source": [
    "Based on the plot, we can conclude that the rate of male in age_level = 0 has the highest rate while the female in this age level has the lowest in this data set. As for the other groups, there was no significant difference in the data. We can appropriately increase the ad placement for men in age_level 0 and decrease the placement for women in age_level 0."
   ]
  },
  {
   "cell_type": "code",
   "execution_count": 34,
   "id": "f967aa15",
   "metadata": {},
   "outputs": [],
   "source": [
    "merge['time_stamp'] = pd.to_datetime(merge['time_stamp'],unit='s')"
   ]
  },
  {
   "cell_type": "code",
   "execution_count": 545,
   "id": "16ba0449",
   "metadata": {},
   "outputs": [],
   "source": [
    "hour = merge"
   ]
  },
  {
   "cell_type": "code",
   "execution_count": 549,
   "id": "c5c0f056",
   "metadata": {},
   "outputs": [],
   "source": [
    "hour['hour'] = hour['time_stamp'].dt.hour"
   ]
  },
  {
   "cell_type": "code",
   "execution_count": 550,
   "id": "5ce45aae",
   "metadata": {},
   "outputs": [],
   "source": [
    "hour = hour.groupby('hour').sum()"
   ]
  },
  {
   "cell_type": "code",
   "execution_count": 552,
   "id": "e9af8061",
   "metadata": {},
   "outputs": [],
   "source": [
    "hour = hour.reset_index()"
   ]
  },
  {
   "cell_type": "code",
   "execution_count": 555,
   "id": "3dcbda40",
   "metadata": {},
   "outputs": [],
   "source": [
    "hour['rate'] = (hour['clk'] / ((hour['clk']) + (hour['nonclk'])))"
   ]
  },
  {
   "cell_type": "code",
   "execution_count": 557,
   "id": "3c415ed8",
   "metadata": {},
   "outputs": [
    {
     "data": {
      "image/png": "[encoded data removed]",
      "text/plain": [
       "<Figure size 432x288 with 1 Axes>"
      ]
     },
     "metadata": {
      "needs_background": "light"
     },
     "output_type": "display_data"
    }
   ],
   "source": [
    "plt.bar(hour['hour'],hour['rate'])\n",
    "for i in range(0,24):\n",
    "    plt.text(hour['hour'][i],hour['rate'][i],hour['clk'][i],ha='center')"
   ]
  },
  {
   "cell_type": "code",
   "execution_count": null,
   "id": "de735885",
   "metadata": {},
   "outputs": [],
   "source": []
  }
 ],
 "metadata": {
  "kernelspec": {
   "display_name": "Python 3 (ipykernel)",
   "language": "python",
   "name": "python3"
  },
  "language_info": {
   "codemirror_mode": {
    "name": "ipython",
    "version": 3
   },
   "file_extension": ".py",
   "mimetype": "text/x-python",
   "name": "python",
   "nbconvert_exporter": "python",
   "pygments_lexer": "ipython3",
   "version": "3.9.12"
  }
 },
 "nbformat": 4,
 "nbformat_minor": 5
}
